{
 "cells": [
  {
   "cell_type": "code",
   "execution_count": 27,
   "metadata": {},
   "outputs": [
    {
     "name": "stdout",
     "output_type": "stream",
     "text": [
      "Connected to MySQL Server version  8.0.24\n",
      "You're connected to database:  ('acadejee',)\n"
     ]
    }
   ],
   "source": [
    "# -*- coding: utf-8 -*-\n",
    "\"\"\"\n",
    "Created on Wed Mar  3 23:02:06 2021\n",
    "\n",
    "@author: Racholsan\n",
    "\"\"\"\n",
    "\n",
    "import mysql.connector\n",
    "from mysql.connector import Error\n",
    "import pandas as pd\n",
    "import random\n",
    "import datetime\n",
    "import matplotlib.pyplot as plt\n",
    "try:\n",
    "    connection = mysql.connector.connect(host='localhost',\n",
    "                                         database='acadejee',\n",
    "                                         user='root',\n",
    "                                         password= '12345')\n",
    "    if connection.is_connected():\n",
    "        db_Info = connection.get_server_info()\n",
    "        print(\"Connected to MySQL Server version \", db_Info)\n",
    "        cursor = connection.cursor()\n",
    "        cursor.execute(\"select database();\")\n",
    "        record = cursor.fetchone()\n",
    "        print(\"You're connected to database: \", record)\n",
    "\n",
    "except Error as e:\n",
    "    print(\"Error while connecting to MySQL\", e)\n",
    "    \n",
    "mycursor = connection.cursor()\n",
    "mycursor.execute(\"SHOW TABLES\")\n",
    "cursor.fetchall()\n",
    "\n",
    "df_o = pd.read_sql_query(\"select * from online_exam_scores;\", connection)\n",
    "df_s = pd.read_sql_query(\"select * from student_exam_scores;\", connection)"
   ]
  },
  {
   "cell_type": "markdown",
   "metadata": {},
   "source": [
    "# Installing dependencies"
   ]
  },
  {
   "cell_type": "code",
   "execution_count": 28,
   "metadata": {},
   "outputs": [
    {
     "data": {
      "text/html": [
       "        <script type=\"text/javascript\">\n",
       "        window.PlotlyConfig = {MathJaxConfig: 'local'};\n",
       "        if (window.MathJax) {MathJax.Hub.Config({SVG: {font: \"STIX-Web\"}});}\n",
       "        if (typeof require !== 'undefined') {\n",
       "        require.undef(\"plotly\");\n",
       "        requirejs.config({\n",
       "            paths: {\n",
       "                'plotly': ['https://cdn.plot.ly/plotly-latest.min']\n",
       "            }\n",
       "        });\n",
       "        require(['plotly'], function(Plotly) {\n",
       "            window._Plotly = Plotly;\n",
       "        });\n",
       "        }\n",
       "        </script>\n",
       "        "
      ]
     },
     "metadata": {},
     "output_type": "display_data"
    }
   ],
   "source": [
    "import numpy as np\n",
    "#import chart_studio.plotly as py\n",
    "import seaborn as sns\n",
    "import plotly.express as px\n",
    "import plotly.graph_objects as go\n",
    "#import cufflinks as cf\n",
    "from statsmodels import *\n",
    "from plotly.subplots import make_subplots\n",
    "#import chart_studio\n",
    "%matplotlib inline\n",
    "\n",
    "from plotly.offline import download_plotlyjs, init_notebook_mode, plot, iplot\n",
    "init_notebook_mode(connected = True)\n",
    "#cf.go_offline()"
   ]
  },
  {
   "cell_type": "markdown",
   "metadata": {},
   "source": [
    "# Changing the data types"
   ]
  },
  {
   "cell_type": "code",
   "execution_count": 29,
   "metadata": {},
   "outputs": [],
   "source": [
    "df_o[['scored_marks', 'total_marks']] = df_o[['scored_marks', 'total_marks']].astype(float)\n",
    "df_o['total_time'] = df_o['total_time'].astype(float)\n",
    "df_o['updated_at'].astype(str).str[:10]\n",
    "df_o['date'] = df_o['updated_at'].dt.strftime('%Y-%m-%d')"
   ]
  },
  {
   "cell_type": "markdown",
   "metadata": {},
   "source": [
    "# Data Filtering"
   ]
  },
  {
   "cell_type": "code",
   "execution_count": 30,
   "metadata": {},
   "outputs": [],
   "source": [
    "df_o  = df_o.dropna(how = 'any')\n",
    "df_o  = df_o[df_o['total_time'] > 30]\n",
    "df_o = df_o[df_o['total_marks'] > 99]\n",
    "df_o = df_o.sort_values(by = 'scored_marks', ascending = False)"
   ]
  },
  {
   "cell_type": "markdown",
   "metadata": {},
   "source": [
    "# Making new columns (nor_marks & percentile)"
   ]
  },
  {
   "cell_type": "code",
   "execution_count": 31,
   "metadata": {},
   "outputs": [],
   "source": [
    "df_o['avg_marks']  = df_o.groupby([\"exam_id\", \"sub_id\", \"total_marks\"])['scored_marks'].transform(lambda x: x.mean())\n",
    "df_o[\"percentile\"] = (df_o.groupby([\"exam_id\", \"sub_id\", \"total_marks\"])['scored_marks'].rank(pct = True))*100\n",
    "df_o['percentage'] = (np.divide(df_o['scored_marks'], df_o['total_marks']))*100\n",
    "df_o\n",
    "df_o.to_csv('acadejee.csv')"
   ]
  },
  {
   "cell_type": "code",
   "execution_count": 32,
   "metadata": {},
   "outputs": [
    {
     "data": {
      "text/html": [
       "<div>\n",
       "<style scoped>\n",
       "    .dataframe tbody tr th:only-of-type {\n",
       "        vertical-align: middle;\n",
       "    }\n",
       "\n",
       "    .dataframe tbody tr th {\n",
       "        vertical-align: top;\n",
       "    }\n",
       "\n",
       "    .dataframe thead th {\n",
       "        text-align: right;\n",
       "    }\n",
       "</style>\n",
       "<table border=\"1\" class=\"dataframe\">\n",
       "  <thead>\n",
       "    <tr style=\"text-align: right;\">\n",
       "      <th></th>\n",
       "      <th>id</th>\n",
       "      <th>reg_no</th>\n",
       "      <th>exam_id</th>\n",
       "      <th>sub_id</th>\n",
       "      <th>attempt_count</th>\n",
       "      <th>scored_marks</th>\n",
       "      <th>total_marks</th>\n",
       "      <th>total_time</th>\n",
       "      <th>created_at</th>\n",
       "      <th>updated_at</th>\n",
       "      <th>date</th>\n",
       "      <th>avg_marks</th>\n",
       "      <th>percentile</th>\n",
       "      <th>percentage</th>\n",
       "    </tr>\n",
       "  </thead>\n",
       "  <tbody>\n",
       "    <tr>\n",
       "      <th>701</th>\n",
       "      <td>702</td>\n",
       "      <td>ACAD-203002</td>\n",
       "      <td>14</td>\n",
       "      <td>10</td>\n",
       "      <td>501</td>\n",
       "      <td>305.0</td>\n",
       "      <td>360.0</td>\n",
       "      <td>56.7</td>\n",
       "      <td>2020-06-19 00:20:01</td>\n",
       "      <td>2020-06-19 00:20:01</td>\n",
       "      <td>2020-06-19</td>\n",
       "      <td>146.5</td>\n",
       "      <td>100.0</td>\n",
       "      <td>84.722222</td>\n",
       "    </tr>\n",
       "    <tr>\n",
       "      <th>674</th>\n",
       "      <td>675</td>\n",
       "      <td>ACAD-203006</td>\n",
       "      <td>14</td>\n",
       "      <td>10</td>\n",
       "      <td>504</td>\n",
       "      <td>301.0</td>\n",
       "      <td>360.0</td>\n",
       "      <td>57.1</td>\n",
       "      <td>2020-06-18 23:25:41</td>\n",
       "      <td>2020-06-18 23:25:41</td>\n",
       "      <td>2020-06-18</td>\n",
       "      <td>146.5</td>\n",
       "      <td>90.0</td>\n",
       "      <td>83.611111</td>\n",
       "    </tr>\n",
       "    <tr>\n",
       "      <th>1427</th>\n",
       "      <td>1431</td>\n",
       "      <td>ACAD-203002</td>\n",
       "      <td>32</td>\n",
       "      <td>10</td>\n",
       "      <td>873</td>\n",
       "      <td>299.0</td>\n",
       "      <td>360.0</td>\n",
       "      <td>79.1</td>\n",
       "      <td>2020-07-19 18:26:51</td>\n",
       "      <td>2020-07-19 18:26:51</td>\n",
       "      <td>2020-07-19</td>\n",
       "      <td>223.7</td>\n",
       "      <td>100.0</td>\n",
       "      <td>83.055556</td>\n",
       "    </tr>\n",
       "    <tr>\n",
       "      <th>793</th>\n",
       "      <td>794</td>\n",
       "      <td>ACAD-203003</td>\n",
       "      <td>16</td>\n",
       "      <td>10</td>\n",
       "      <td>584</td>\n",
       "      <td>277.0</td>\n",
       "      <td>360.0</td>\n",
       "      <td>87.3</td>\n",
       "      <td>2020-06-21 18:38:26</td>\n",
       "      <td>2020-06-21 18:38:26</td>\n",
       "      <td>2020-06-21</td>\n",
       "      <td>163.0</td>\n",
       "      <td>100.0</td>\n",
       "      <td>76.944444</td>\n",
       "    </tr>\n",
       "    <tr>\n",
       "      <th>1532</th>\n",
       "      <td>1536</td>\n",
       "      <td>ACAD-203001</td>\n",
       "      <td>34</td>\n",
       "      <td>10</td>\n",
       "      <td>925</td>\n",
       "      <td>277.0</td>\n",
       "      <td>360.0</td>\n",
       "      <td>33.3</td>\n",
       "      <td>2020-07-26 17:37:22</td>\n",
       "      <td>2020-07-26 17:37:22</td>\n",
       "      <td>2020-07-26</td>\n",
       "      <td>215.5</td>\n",
       "      <td>100.0</td>\n",
       "      <td>76.944444</td>\n",
       "    </tr>\n",
       "    <tr>\n",
       "      <th>...</th>\n",
       "      <td>...</td>\n",
       "      <td>...</td>\n",
       "      <td>...</td>\n",
       "      <td>...</td>\n",
       "      <td>...</td>\n",
       "      <td>...</td>\n",
       "      <td>...</td>\n",
       "      <td>...</td>\n",
       "      <td>...</td>\n",
       "      <td>...</td>\n",
       "      <td>...</td>\n",
       "      <td>...</td>\n",
       "      <td>...</td>\n",
       "      <td>...</td>\n",
       "    </tr>\n",
       "    <tr>\n",
       "      <th>3098</th>\n",
       "      <td>3102</td>\n",
       "      <td>ACAD-208012</td>\n",
       "      <td>84</td>\n",
       "      <td>1</td>\n",
       "      <td>1831</td>\n",
       "      <td>-7.0</td>\n",
       "      <td>100.0</td>\n",
       "      <td>65.3</td>\n",
       "      <td>2021-02-28 12:47:36</td>\n",
       "      <td>2021-02-28 12:47:36</td>\n",
       "      <td>2021-02-28</td>\n",
       "      <td>-0.8</td>\n",
       "      <td>25.0</td>\n",
       "      <td>-7.000000</td>\n",
       "    </tr>\n",
       "    <tr>\n",
       "      <th>2221</th>\n",
       "      <td>2225</td>\n",
       "      <td>ACAD-203006</td>\n",
       "      <td>49</td>\n",
       "      <td>7</td>\n",
       "      <td>1312</td>\n",
       "      <td>-8.0</td>\n",
       "      <td>180.0</td>\n",
       "      <td>43.1</td>\n",
       "      <td>2020-09-20 11:55:06</td>\n",
       "      <td>2020-09-20 11:55:06</td>\n",
       "      <td>2020-09-20</td>\n",
       "      <td>-5.8</td>\n",
       "      <td>75.0</td>\n",
       "      <td>-4.444444</td>\n",
       "    </tr>\n",
       "    <tr>\n",
       "      <th>2224</th>\n",
       "      <td>2228</td>\n",
       "      <td>ACAD-203001</td>\n",
       "      <td>49</td>\n",
       "      <td>7</td>\n",
       "      <td>1308</td>\n",
       "      <td>-9.0</td>\n",
       "      <td>180.0</td>\n",
       "      <td>35.7</td>\n",
       "      <td>2020-09-20 12:04:33</td>\n",
       "      <td>2020-09-20 12:04:33</td>\n",
       "      <td>2020-09-20</td>\n",
       "      <td>-5.8</td>\n",
       "      <td>50.0</td>\n",
       "      <td>-5.000000</td>\n",
       "    </tr>\n",
       "    <tr>\n",
       "      <th>2680</th>\n",
       "      <td>2684</td>\n",
       "      <td>ACAD-208014</td>\n",
       "      <td>64</td>\n",
       "      <td>2</td>\n",
       "      <td>1569</td>\n",
       "      <td>-11.0</td>\n",
       "      <td>100.0</td>\n",
       "      <td>50.2</td>\n",
       "      <td>2020-11-22 11:46:44</td>\n",
       "      <td>2020-11-22 11:46:44</td>\n",
       "      <td>2020-11-22</td>\n",
       "      <td>37.8</td>\n",
       "      <td>11.1</td>\n",
       "      <td>-11.000000</td>\n",
       "    </tr>\n",
       "    <tr>\n",
       "      <th>2230</th>\n",
       "      <td>2234</td>\n",
       "      <td>ACAD-203002</td>\n",
       "      <td>49</td>\n",
       "      <td>7</td>\n",
       "      <td>1310</td>\n",
       "      <td>-11.0</td>\n",
       "      <td>180.0</td>\n",
       "      <td>53.7</td>\n",
       "      <td>2020-09-20 12:54:58</td>\n",
       "      <td>2020-09-20 12:54:58</td>\n",
       "      <td>2020-09-20</td>\n",
       "      <td>-5.8</td>\n",
       "      <td>25.0</td>\n",
       "      <td>-6.111111</td>\n",
       "    </tr>\n",
       "  </tbody>\n",
       "</table>\n",
       "<p>1395 rows × 14 columns</p>\n",
       "</div>"
      ],
      "text/plain": [
       "        id       reg_no exam_id sub_id attempt_count  scored_marks  \\\n",
       "701    702  ACAD-203002      14     10           501         305.0   \n",
       "674    675  ACAD-203006      14     10           504         301.0   \n",
       "1427  1431  ACAD-203002      32     10           873         299.0   \n",
       "793    794  ACAD-203003      16     10           584         277.0   \n",
       "1532  1536  ACAD-203001      34     10           925         277.0   \n",
       "...    ...          ...     ...    ...           ...           ...   \n",
       "3098  3102  ACAD-208012      84      1          1831          -7.0   \n",
       "2221  2225  ACAD-203006      49      7          1312          -8.0   \n",
       "2224  2228  ACAD-203001      49      7          1308          -9.0   \n",
       "2680  2684  ACAD-208014      64      2          1569         -11.0   \n",
       "2230  2234  ACAD-203002      49      7          1310         -11.0   \n",
       "\n",
       "      total_marks  total_time          created_at          updated_at  \\\n",
       "701         360.0        56.7 2020-06-19 00:20:01 2020-06-19 00:20:01   \n",
       "674         360.0        57.1 2020-06-18 23:25:41 2020-06-18 23:25:41   \n",
       "1427        360.0        79.1 2020-07-19 18:26:51 2020-07-19 18:26:51   \n",
       "793         360.0        87.3 2020-06-21 18:38:26 2020-06-21 18:38:26   \n",
       "1532        360.0        33.3 2020-07-26 17:37:22 2020-07-26 17:37:22   \n",
       "...           ...         ...                 ...                 ...   \n",
       "3098        100.0        65.3 2021-02-28 12:47:36 2021-02-28 12:47:36   \n",
       "2221        180.0        43.1 2020-09-20 11:55:06 2020-09-20 11:55:06   \n",
       "2224        180.0        35.7 2020-09-20 12:04:33 2020-09-20 12:04:33   \n",
       "2680        100.0        50.2 2020-11-22 11:46:44 2020-11-22 11:46:44   \n",
       "2230        180.0        53.7 2020-09-20 12:54:58 2020-09-20 12:54:58   \n",
       "\n",
       "            date  avg_marks  percentile  percentage  \n",
       "701   2020-06-19      146.5       100.0   84.722222  \n",
       "674   2020-06-18      146.5        90.0   83.611111  \n",
       "1427  2020-07-19      223.7       100.0   83.055556  \n",
       "793   2020-06-21      163.0       100.0   76.944444  \n",
       "1532  2020-07-26      215.5       100.0   76.944444  \n",
       "...          ...        ...         ...         ...  \n",
       "3098  2021-02-28       -0.8        25.0   -7.000000  \n",
       "2221  2020-09-20       -5.8        75.0   -4.444444  \n",
       "2224  2020-09-20       -5.8        50.0   -5.000000  \n",
       "2680  2020-11-22       37.8        11.1  -11.000000  \n",
       "2230  2020-09-20       -5.8        25.0   -6.111111  \n",
       "\n",
       "[1395 rows x 14 columns]"
      ]
     },
     "execution_count": 32,
     "metadata": {},
     "output_type": "execute_result"
    }
   ],
   "source": [
    "df_o['avg_marks'] = np.around(df_o['avg_marks'], decimals = 1)\n",
    "df_o['total_time'] = np.around(df_o['total_time'], decimals = 1)\n",
    "df_o['percentile'] = np.around(df_o['percentile'], decimals = 1)\n",
    "df_o"
   ]
  },
  {
   "cell_type": "code",
   "execution_count": 33,
   "metadata": {},
   "outputs": [
    {
     "data": {
      "text/html": [
       "<div>\n",
       "<style scoped>\n",
       "    .dataframe tbody tr th:only-of-type {\n",
       "        vertical-align: middle;\n",
       "    }\n",
       "\n",
       "    .dataframe tbody tr th {\n",
       "        vertical-align: top;\n",
       "    }\n",
       "\n",
       "    .dataframe thead th {\n",
       "        text-align: right;\n",
       "    }\n",
       "</style>\n",
       "<table border=\"1\" class=\"dataframe\">\n",
       "  <thead>\n",
       "    <tr style=\"text-align: right;\">\n",
       "      <th></th>\n",
       "      <th>id</th>\n",
       "      <th>reg_no</th>\n",
       "      <th>exam_id</th>\n",
       "      <th>sub_id</th>\n",
       "      <th>attempt_count</th>\n",
       "      <th>scored_marks</th>\n",
       "      <th>total_marks</th>\n",
       "      <th>total_time</th>\n",
       "      <th>created_at</th>\n",
       "      <th>updated_at</th>\n",
       "      <th>date</th>\n",
       "      <th>avg_marks</th>\n",
       "      <th>percentile</th>\n",
       "      <th>percentage</th>\n",
       "      <th>total_candidates</th>\n",
       "    </tr>\n",
       "  </thead>\n",
       "  <tbody>\n",
       "    <tr>\n",
       "      <th>701</th>\n",
       "      <td>702</td>\n",
       "      <td>ACAD-203002</td>\n",
       "      <td>14</td>\n",
       "      <td>10</td>\n",
       "      <td>501</td>\n",
       "      <td>305.0</td>\n",
       "      <td>360.0</td>\n",
       "      <td>56.7</td>\n",
       "      <td>2020-06-19 00:20:01</td>\n",
       "      <td>2020-06-19 00:20:01</td>\n",
       "      <td>2020-06-19</td>\n",
       "      <td>146.5</td>\n",
       "      <td>100.0</td>\n",
       "      <td>84.722222</td>\n",
       "      <td>10.0</td>\n",
       "    </tr>\n",
       "    <tr>\n",
       "      <th>674</th>\n",
       "      <td>675</td>\n",
       "      <td>ACAD-203006</td>\n",
       "      <td>14</td>\n",
       "      <td>10</td>\n",
       "      <td>504</td>\n",
       "      <td>301.0</td>\n",
       "      <td>360.0</td>\n",
       "      <td>57.1</td>\n",
       "      <td>2020-06-18 23:25:41</td>\n",
       "      <td>2020-06-18 23:25:41</td>\n",
       "      <td>2020-06-18</td>\n",
       "      <td>146.5</td>\n",
       "      <td>90.0</td>\n",
       "      <td>83.611111</td>\n",
       "      <td>10.0</td>\n",
       "    </tr>\n",
       "    <tr>\n",
       "      <th>1427</th>\n",
       "      <td>1431</td>\n",
       "      <td>ACAD-203002</td>\n",
       "      <td>32</td>\n",
       "      <td>10</td>\n",
       "      <td>873</td>\n",
       "      <td>299.0</td>\n",
       "      <td>360.0</td>\n",
       "      <td>79.1</td>\n",
       "      <td>2020-07-19 18:26:51</td>\n",
       "      <td>2020-07-19 18:26:51</td>\n",
       "      <td>2020-07-19</td>\n",
       "      <td>223.7</td>\n",
       "      <td>100.0</td>\n",
       "      <td>83.055556</td>\n",
       "      <td>9.0</td>\n",
       "    </tr>\n",
       "    <tr>\n",
       "      <th>793</th>\n",
       "      <td>794</td>\n",
       "      <td>ACAD-203003</td>\n",
       "      <td>16</td>\n",
       "      <td>10</td>\n",
       "      <td>584</td>\n",
       "      <td>277.0</td>\n",
       "      <td>360.0</td>\n",
       "      <td>87.3</td>\n",
       "      <td>2020-06-21 18:38:26</td>\n",
       "      <td>2020-06-21 18:38:26</td>\n",
       "      <td>2020-06-21</td>\n",
       "      <td>163.0</td>\n",
       "      <td>100.0</td>\n",
       "      <td>76.944444</td>\n",
       "      <td>6.0</td>\n",
       "    </tr>\n",
       "    <tr>\n",
       "      <th>1532</th>\n",
       "      <td>1536</td>\n",
       "      <td>ACAD-203001</td>\n",
       "      <td>34</td>\n",
       "      <td>10</td>\n",
       "      <td>925</td>\n",
       "      <td>277.0</td>\n",
       "      <td>360.0</td>\n",
       "      <td>33.3</td>\n",
       "      <td>2020-07-26 17:37:22</td>\n",
       "      <td>2020-07-26 17:37:22</td>\n",
       "      <td>2020-07-26</td>\n",
       "      <td>215.5</td>\n",
       "      <td>100.0</td>\n",
       "      <td>76.944444</td>\n",
       "      <td>4.0</td>\n",
       "    </tr>\n",
       "    <tr>\n",
       "      <th>...</th>\n",
       "      <td>...</td>\n",
       "      <td>...</td>\n",
       "      <td>...</td>\n",
       "      <td>...</td>\n",
       "      <td>...</td>\n",
       "      <td>...</td>\n",
       "      <td>...</td>\n",
       "      <td>...</td>\n",
       "      <td>...</td>\n",
       "      <td>...</td>\n",
       "      <td>...</td>\n",
       "      <td>...</td>\n",
       "      <td>...</td>\n",
       "      <td>...</td>\n",
       "      <td>...</td>\n",
       "    </tr>\n",
       "    <tr>\n",
       "      <th>3098</th>\n",
       "      <td>3102</td>\n",
       "      <td>ACAD-208012</td>\n",
       "      <td>84</td>\n",
       "      <td>1</td>\n",
       "      <td>1831</td>\n",
       "      <td>-7.0</td>\n",
       "      <td>100.0</td>\n",
       "      <td>65.3</td>\n",
       "      <td>2021-02-28 12:47:36</td>\n",
       "      <td>2021-02-28 12:47:36</td>\n",
       "      <td>2021-02-28</td>\n",
       "      <td>-0.8</td>\n",
       "      <td>25.0</td>\n",
       "      <td>-7.000000</td>\n",
       "      <td>4.0</td>\n",
       "    </tr>\n",
       "    <tr>\n",
       "      <th>2221</th>\n",
       "      <td>2225</td>\n",
       "      <td>ACAD-203006</td>\n",
       "      <td>49</td>\n",
       "      <td>7</td>\n",
       "      <td>1312</td>\n",
       "      <td>-8.0</td>\n",
       "      <td>180.0</td>\n",
       "      <td>43.1</td>\n",
       "      <td>2020-09-20 11:55:06</td>\n",
       "      <td>2020-09-20 11:55:06</td>\n",
       "      <td>2020-09-20</td>\n",
       "      <td>-5.8</td>\n",
       "      <td>75.0</td>\n",
       "      <td>-4.444444</td>\n",
       "      <td>4.0</td>\n",
       "    </tr>\n",
       "    <tr>\n",
       "      <th>2224</th>\n",
       "      <td>2228</td>\n",
       "      <td>ACAD-203001</td>\n",
       "      <td>49</td>\n",
       "      <td>7</td>\n",
       "      <td>1308</td>\n",
       "      <td>-9.0</td>\n",
       "      <td>180.0</td>\n",
       "      <td>35.7</td>\n",
       "      <td>2020-09-20 12:04:33</td>\n",
       "      <td>2020-09-20 12:04:33</td>\n",
       "      <td>2020-09-20</td>\n",
       "      <td>-5.8</td>\n",
       "      <td>50.0</td>\n",
       "      <td>-5.000000</td>\n",
       "      <td>4.0</td>\n",
       "    </tr>\n",
       "    <tr>\n",
       "      <th>2680</th>\n",
       "      <td>2684</td>\n",
       "      <td>ACAD-208014</td>\n",
       "      <td>64</td>\n",
       "      <td>2</td>\n",
       "      <td>1569</td>\n",
       "      <td>-11.0</td>\n",
       "      <td>100.0</td>\n",
       "      <td>50.2</td>\n",
       "      <td>2020-11-22 11:46:44</td>\n",
       "      <td>2020-11-22 11:46:44</td>\n",
       "      <td>2020-11-22</td>\n",
       "      <td>37.8</td>\n",
       "      <td>11.1</td>\n",
       "      <td>-11.000000</td>\n",
       "      <td>9.0</td>\n",
       "    </tr>\n",
       "    <tr>\n",
       "      <th>2230</th>\n",
       "      <td>2234</td>\n",
       "      <td>ACAD-203002</td>\n",
       "      <td>49</td>\n",
       "      <td>7</td>\n",
       "      <td>1310</td>\n",
       "      <td>-11.0</td>\n",
       "      <td>180.0</td>\n",
       "      <td>53.7</td>\n",
       "      <td>2020-09-20 12:54:58</td>\n",
       "      <td>2020-09-20 12:54:58</td>\n",
       "      <td>2020-09-20</td>\n",
       "      <td>-5.8</td>\n",
       "      <td>25.0</td>\n",
       "      <td>-6.111111</td>\n",
       "      <td>4.0</td>\n",
       "    </tr>\n",
       "  </tbody>\n",
       "</table>\n",
       "<p>1395 rows × 15 columns</p>\n",
       "</div>"
      ],
      "text/plain": [
       "        id       reg_no exam_id sub_id attempt_count  scored_marks  \\\n",
       "701    702  ACAD-203002      14     10           501         305.0   \n",
       "674    675  ACAD-203006      14     10           504         301.0   \n",
       "1427  1431  ACAD-203002      32     10           873         299.0   \n",
       "793    794  ACAD-203003      16     10           584         277.0   \n",
       "1532  1536  ACAD-203001      34     10           925         277.0   \n",
       "...    ...          ...     ...    ...           ...           ...   \n",
       "3098  3102  ACAD-208012      84      1          1831          -7.0   \n",
       "2221  2225  ACAD-203006      49      7          1312          -8.0   \n",
       "2224  2228  ACAD-203001      49      7          1308          -9.0   \n",
       "2680  2684  ACAD-208014      64      2          1569         -11.0   \n",
       "2230  2234  ACAD-203002      49      7          1310         -11.0   \n",
       "\n",
       "      total_marks  total_time          created_at          updated_at  \\\n",
       "701         360.0        56.7 2020-06-19 00:20:01 2020-06-19 00:20:01   \n",
       "674         360.0        57.1 2020-06-18 23:25:41 2020-06-18 23:25:41   \n",
       "1427        360.0        79.1 2020-07-19 18:26:51 2020-07-19 18:26:51   \n",
       "793         360.0        87.3 2020-06-21 18:38:26 2020-06-21 18:38:26   \n",
       "1532        360.0        33.3 2020-07-26 17:37:22 2020-07-26 17:37:22   \n",
       "...           ...         ...                 ...                 ...   \n",
       "3098        100.0        65.3 2021-02-28 12:47:36 2021-02-28 12:47:36   \n",
       "2221        180.0        43.1 2020-09-20 11:55:06 2020-09-20 11:55:06   \n",
       "2224        180.0        35.7 2020-09-20 12:04:33 2020-09-20 12:04:33   \n",
       "2680        100.0        50.2 2020-11-22 11:46:44 2020-11-22 11:46:44   \n",
       "2230        180.0        53.7 2020-09-20 12:54:58 2020-09-20 12:54:58   \n",
       "\n",
       "            date  avg_marks  percentile  percentage  total_candidates  \n",
       "701   2020-06-19      146.5       100.0   84.722222              10.0  \n",
       "674   2020-06-18      146.5        90.0   83.611111              10.0  \n",
       "1427  2020-07-19      223.7       100.0   83.055556               9.0  \n",
       "793   2020-06-21      163.0       100.0   76.944444               6.0  \n",
       "1532  2020-07-26      215.5       100.0   76.944444               4.0  \n",
       "...          ...        ...         ...         ...               ...  \n",
       "3098  2021-02-28       -0.8        25.0   -7.000000               4.0  \n",
       "2221  2020-09-20       -5.8        75.0   -4.444444               4.0  \n",
       "2224  2020-09-20       -5.8        50.0   -5.000000               4.0  \n",
       "2680  2020-11-22       37.8        11.1  -11.000000               9.0  \n",
       "2230  2020-09-20       -5.8        25.0   -6.111111               4.0  \n",
       "\n",
       "[1395 rows x 15 columns]"
      ]
     },
     "execution_count": 33,
     "metadata": {},
     "output_type": "execute_result"
    }
   ],
   "source": [
    "df_o['total_candidates'] = df_o.groupby([\"exam_id\", \"sub_id\", \"total_marks\"])['scored_marks'].transform(len)\n",
    "df_o"
   ]
  },
  {
   "cell_type": "markdown",
   "metadata": {},
   "source": [
    "# Visualization"
   ]
  },
  {
   "cell_type": "code",
   "execution_count": 34,
   "metadata": {},
   "outputs": [
    {
     "data": {
      "application/vnd.plotly.v1+json": {
       "config": {
        "plotlyServerURL": "https://plot.ly"
       },
       "data": [
        {
         "customdata": [
          [
           277,
           215.5,
           4
          ],
          [
           276,
           199.6,
           5
          ],
          [
           250,
           223.7,
           9
          ],
          [
           249,
           171.9,
           7
          ],
          [
           246,
           222.2,
           5
          ],
          [
           236,
           199.6,
           9
          ],
          [
           221,
           175.8,
           10
          ],
          [
           221,
           207.7,
           6
          ],
          [
           216,
           216,
           1
          ],
          [
           213,
           164.9,
           9
          ],
          [
           194,
           136.7,
           9
          ],
          [
           187,
           121.6,
           5
          ],
          [
           154,
           155.7,
           10
          ],
          [
           117,
           92,
           4
          ]
         ],
         "hovertemplate": "sub_id=10<br>percentile=%{y}<br>total_marks=%{marker.size}<br>scored_marks=%{customdata[0]:}<br>avg_marks=%{customdata[1]:}<br>total_candidates=%{customdata[2]:}<extra></extra>",
         "legendgroup": "10",
         "marker": {
          "color": "#F8766D",
          "size": [
           360,
           360,
           360,
           360,
           360,
           360,
           360,
           360,
           360,
           360,
           360,
           360,
           360,
           360
          ],
          "sizemode": "area",
          "sizeref": 0.9,
          "symbol": "circle"
         },
         "mode": "markers",
         "name": "10",
         "orientation": "v",
         "showlegend": true,
         "type": "scatter",
         "x": [
          "2020-07-26",
          "2020-08-09",
          "2020-07-19",
          "2020-08-23",
          "2020-12-13",
          "2020-07-12",
          "2020-07-05",
          "2020-09-20",
          "2021-01-24",
          "2020-09-01",
          "2020-06-28",
          "2020-09-13",
          "2020-09-06",
          "2020-09-27"
         ],
         "xaxis": "x",
         "y": [
          100,
          100,
          77.8,
          100,
          80,
          100,
          90,
          66.7,
          100,
          77.8,
          100,
          100,
          40,
          87.5
         ],
         "yaxis": "y"
        },
        {
         "customdata": [
          [
           103,
           72,
           6
          ],
          [
           93,
           59.8,
           5
          ],
          [
           85,
           53.7,
           6
          ],
          [
           71,
           55.7,
           3
          ],
          [
           70,
           70,
           1
          ],
          [
           69,
           99.5,
           4
          ],
          [
           63,
           76.5,
           6
          ],
          [
           49,
           69.8,
           5
          ],
          [
           42,
           58,
           7
          ]
         ],
         "hovertemplate": "sub_id=9<br>percentile=%{y}<br>total_marks=%{marker.size}<br>scored_marks=%{customdata[0]:}<br>avg_marks=%{customdata[1]:}<br>total_candidates=%{customdata[2]:}<extra></extra>",
         "legendgroup": "9",
         "marker": {
          "color": "#A3A500",
          "size": [
           180,
           180,
           180,
           180,
           180,
           180,
           180,
           180,
           180
          ],
          "sizemode": "area",
          "sizeref": 0.9,
          "symbol": "circle"
         },
         "mode": "markers",
         "name": "9",
         "orientation": "v",
         "showlegend": true,
         "type": "scatter",
         "x": [
          "2020-08-23",
          "2020-09-20",
          "2020-08-09",
          "2020-09-13",
          "2021-01-10",
          "2020-07-26",
          "2020-09-01",
          "2020-07-05",
          "2020-07-12"
         ],
         "xaxis": "x",
         "y": [
          83.3,
          100,
          100,
          66.7,
          100,
          25,
          33.3,
          20,
          57.1
         ],
         "yaxis": "y"
        },
        {
         "customdata": [
          [
           77,
           66.8,
           4
          ],
          [
           74,
           70.1,
           8
          ],
          [
           58,
           54.9,
           7
          ],
          [
           57,
           67.4,
           8
          ],
          [
           52,
           52.3,
           6
          ],
          [
           30,
           53,
           4
          ],
          [
           29,
           38,
           5
          ],
          [
           13,
           29,
           4
          ],
          [
           10,
           11.9,
           7
          ],
          [
           6,
           5.5,
           2
          ],
          [
           -9,
           -5.8,
           4
          ]
         ],
         "hovertemplate": "sub_id=7<br>percentile=%{y}<br>total_marks=%{marker.size}<br>scored_marks=%{customdata[0]:}<br>avg_marks=%{customdata[1]:}<br>total_candidates=%{customdata[2]:}<extra></extra>",
         "legendgroup": "7",
         "marker": {
          "color": "#00BF7D",
          "size": [
           180,
           180,
           180,
           180,
           180,
           180,
           180,
           180,
           180,
           180,
           180
          ],
          "sizemode": "area",
          "sizeref": 0.9,
          "symbol": "circle"
         },
         "mode": "markers",
         "name": "7",
         "orientation": "v",
         "showlegend": true,
         "type": "scatter",
         "x": [
          "2020-07-26",
          "2020-08-23",
          "2020-07-19",
          "2020-09-01",
          "2020-08-09",
          "2020-09-27",
          "2020-07-12",
          "2020-06-28",
          "2020-09-06",
          "2020-09-13",
          "2020-09-20"
         ],
         "xaxis": "x",
         "y": [
          50,
          50,
          71.4,
          50,
          50,
          37.5,
          60,
          62.5,
          57.1,
          100,
          50
         ],
         "yaxis": "y"
        }
       ],
       "layout": {
        "legend": {
         "itemsizing": "constant",
         "title": {
          "text": "sub_id"
         },
         "tracegroupgap": 0
        },
        "template": {
         "data": {
          "bar": [
           {
            "error_x": {
             "color": "rgb(51,51,51)"
            },
            "error_y": {
             "color": "rgb(51,51,51)"
            },
            "marker": {
             "line": {
              "color": "rgb(237,237,237)",
              "width": 0.5
             }
            },
            "type": "bar"
           }
          ],
          "barpolar": [
           {
            "marker": {
             "line": {
              "color": "rgb(237,237,237)",
              "width": 0.5
             }
            },
            "type": "barpolar"
           }
          ],
          "carpet": [
           {
            "aaxis": {
             "endlinecolor": "rgb(51,51,51)",
             "gridcolor": "white",
             "linecolor": "white",
             "minorgridcolor": "white",
             "startlinecolor": "rgb(51,51,51)"
            },
            "baxis": {
             "endlinecolor": "rgb(51,51,51)",
             "gridcolor": "white",
             "linecolor": "white",
             "minorgridcolor": "white",
             "startlinecolor": "rgb(51,51,51)"
            },
            "type": "carpet"
           }
          ],
          "choropleth": [
           {
            "colorbar": {
             "outlinewidth": 0,
             "tickcolor": "rgb(237,237,237)",
             "ticklen": 6,
             "ticks": "inside"
            },
            "type": "choropleth"
           }
          ],
          "contour": [
           {
            "colorbar": {
             "outlinewidth": 0,
             "tickcolor": "rgb(237,237,237)",
             "ticklen": 6,
             "ticks": "inside"
            },
            "colorscale": [
             [
              0,
              "rgb(20,44,66)"
             ],
             [
              1,
              "rgb(90,179,244)"
             ]
            ],
            "type": "contour"
           }
          ],
          "contourcarpet": [
           {
            "colorbar": {
             "outlinewidth": 0,
             "tickcolor": "rgb(237,237,237)",
             "ticklen": 6,
             "ticks": "inside"
            },
            "type": "contourcarpet"
           }
          ],
          "heatmap": [
           {
            "colorbar": {
             "outlinewidth": 0,
             "tickcolor": "rgb(237,237,237)",
             "ticklen": 6,
             "ticks": "inside"
            },
            "colorscale": [
             [
              0,
              "rgb(20,44,66)"
             ],
             [
              1,
              "rgb(90,179,244)"
             ]
            ],
            "type": "heatmap"
           }
          ],
          "heatmapgl": [
           {
            "colorbar": {
             "outlinewidth": 0,
             "tickcolor": "rgb(237,237,237)",
             "ticklen": 6,
             "ticks": "inside"
            },
            "colorscale": [
             [
              0,
              "rgb(20,44,66)"
             ],
             [
              1,
              "rgb(90,179,244)"
             ]
            ],
            "type": "heatmapgl"
           }
          ],
          "histogram": [
           {
            "marker": {
             "colorbar": {
              "outlinewidth": 0,
              "tickcolor": "rgb(237,237,237)",
              "ticklen": 6,
              "ticks": "inside"
             }
            },
            "type": "histogram"
           }
          ],
          "histogram2d": [
           {
            "colorbar": {
             "outlinewidth": 0,
             "tickcolor": "rgb(237,237,237)",
             "ticklen": 6,
             "ticks": "inside"
            },
            "colorscale": [
             [
              0,
              "rgb(20,44,66)"
             ],
             [
              1,
              "rgb(90,179,244)"
             ]
            ],
            "type": "histogram2d"
           }
          ],
          "histogram2dcontour": [
           {
            "colorbar": {
             "outlinewidth": 0,
             "tickcolor": "rgb(237,237,237)",
             "ticklen": 6,
             "ticks": "inside"
            },
            "colorscale": [
             [
              0,
              "rgb(20,44,66)"
             ],
             [
              1,
              "rgb(90,179,244)"
             ]
            ],
            "type": "histogram2dcontour"
           }
          ],
          "mesh3d": [
           {
            "colorbar": {
             "outlinewidth": 0,
             "tickcolor": "rgb(237,237,237)",
             "ticklen": 6,
             "ticks": "inside"
            },
            "type": "mesh3d"
           }
          ],
          "parcoords": [
           {
            "line": {
             "colorbar": {
              "outlinewidth": 0,
              "tickcolor": "rgb(237,237,237)",
              "ticklen": 6,
              "ticks": "inside"
             }
            },
            "type": "parcoords"
           }
          ],
          "pie": [
           {
            "automargin": true,
            "type": "pie"
           }
          ],
          "scatter": [
           {
            "marker": {
             "colorbar": {
              "outlinewidth": 0,
              "tickcolor": "rgb(237,237,237)",
              "ticklen": 6,
              "ticks": "inside"
             }
            },
            "type": "scatter"
           }
          ],
          "scatter3d": [
           {
            "line": {
             "colorbar": {
              "outlinewidth": 0,
              "tickcolor": "rgb(237,237,237)",
              "ticklen": 6,
              "ticks": "inside"
             }
            },
            "marker": {
             "colorbar": {
              "outlinewidth": 0,
              "tickcolor": "rgb(237,237,237)",
              "ticklen": 6,
              "ticks": "inside"
             }
            },
            "type": "scatter3d"
           }
          ],
          "scattercarpet": [
           {
            "marker": {
             "colorbar": {
              "outlinewidth": 0,
              "tickcolor": "rgb(237,237,237)",
              "ticklen": 6,
              "ticks": "inside"
             }
            },
            "type": "scattercarpet"
           }
          ],
          "scattergeo": [
           {
            "marker": {
             "colorbar": {
              "outlinewidth": 0,
              "tickcolor": "rgb(237,237,237)",
              "ticklen": 6,
              "ticks": "inside"
             }
            },
            "type": "scattergeo"
           }
          ],
          "scattergl": [
           {
            "marker": {
             "colorbar": {
              "outlinewidth": 0,
              "tickcolor": "rgb(237,237,237)",
              "ticklen": 6,
              "ticks": "inside"
             }
            },
            "type": "scattergl"
           }
          ],
          "scattermapbox": [
           {
            "marker": {
             "colorbar": {
              "outlinewidth": 0,
              "tickcolor": "rgb(237,237,237)",
              "ticklen": 6,
              "ticks": "inside"
             }
            },
            "type": "scattermapbox"
           }
          ],
          "scatterpolar": [
           {
            "marker": {
             "colorbar": {
              "outlinewidth": 0,
              "tickcolor": "rgb(237,237,237)",
              "ticklen": 6,
              "ticks": "inside"
             }
            },
            "type": "scatterpolar"
           }
          ],
          "scatterpolargl": [
           {
            "marker": {
             "colorbar": {
              "outlinewidth": 0,
              "tickcolor": "rgb(237,237,237)",
              "ticklen": 6,
              "ticks": "inside"
             }
            },
            "type": "scatterpolargl"
           }
          ],
          "scatterternary": [
           {
            "marker": {
             "colorbar": {
              "outlinewidth": 0,
              "tickcolor": "rgb(237,237,237)",
              "ticklen": 6,
              "ticks": "inside"
             }
            },
            "type": "scatterternary"
           }
          ],
          "surface": [
           {
            "colorbar": {
             "outlinewidth": 0,
             "tickcolor": "rgb(237,237,237)",
             "ticklen": 6,
             "ticks": "inside"
            },
            "colorscale": [
             [
              0,
              "rgb(20,44,66)"
             ],
             [
              1,
              "rgb(90,179,244)"
             ]
            ],
            "type": "surface"
           }
          ],
          "table": [
           {
            "cells": {
             "fill": {
              "color": "rgb(237,237,237)"
             },
             "line": {
              "color": "white"
             }
            },
            "header": {
             "fill": {
              "color": "rgb(217,217,217)"
             },
             "line": {
              "color": "white"
             }
            },
            "type": "table"
           }
          ]
         },
         "layout": {
          "annotationdefaults": {
           "arrowhead": 0,
           "arrowwidth": 1
          },
          "autotypenumbers": "strict",
          "coloraxis": {
           "colorbar": {
            "outlinewidth": 0,
            "tickcolor": "rgb(237,237,237)",
            "ticklen": 6,
            "ticks": "inside"
           }
          },
          "colorscale": {
           "sequential": [
            [
             0,
             "rgb(20,44,66)"
            ],
            [
             1,
             "rgb(90,179,244)"
            ]
           ],
           "sequentialminus": [
            [
             0,
             "rgb(20,44,66)"
            ],
            [
             1,
             "rgb(90,179,244)"
            ]
           ]
          },
          "colorway": [
           "#F8766D",
           "#A3A500",
           "#00BF7D",
           "#00B0F6",
           "#E76BF3"
          ],
          "font": {
           "color": "rgb(51,51,51)"
          },
          "geo": {
           "bgcolor": "white",
           "lakecolor": "white",
           "landcolor": "rgb(237,237,237)",
           "showlakes": true,
           "showland": true,
           "subunitcolor": "white"
          },
          "hoverlabel": {
           "align": "left"
          },
          "hovermode": "closest",
          "paper_bgcolor": "white",
          "plot_bgcolor": "rgb(237,237,237)",
          "polar": {
           "angularaxis": {
            "gridcolor": "white",
            "linecolor": "white",
            "showgrid": true,
            "tickcolor": "rgb(51,51,51)",
            "ticks": "outside"
           },
           "bgcolor": "rgb(237,237,237)",
           "radialaxis": {
            "gridcolor": "white",
            "linecolor": "white",
            "showgrid": true,
            "tickcolor": "rgb(51,51,51)",
            "ticks": "outside"
           }
          },
          "scene": {
           "xaxis": {
            "backgroundcolor": "rgb(237,237,237)",
            "gridcolor": "white",
            "gridwidth": 2,
            "linecolor": "white",
            "showbackground": true,
            "showgrid": true,
            "tickcolor": "rgb(51,51,51)",
            "ticks": "outside",
            "zerolinecolor": "white"
           },
           "yaxis": {
            "backgroundcolor": "rgb(237,237,237)",
            "gridcolor": "white",
            "gridwidth": 2,
            "linecolor": "white",
            "showbackground": true,
            "showgrid": true,
            "tickcolor": "rgb(51,51,51)",
            "ticks": "outside",
            "zerolinecolor": "white"
           },
           "zaxis": {
            "backgroundcolor": "rgb(237,237,237)",
            "gridcolor": "white",
            "gridwidth": 2,
            "linecolor": "white",
            "showbackground": true,
            "showgrid": true,
            "tickcolor": "rgb(51,51,51)",
            "ticks": "outside",
            "zerolinecolor": "white"
           }
          },
          "shapedefaults": {
           "fillcolor": "black",
           "line": {
            "width": 0
           },
           "opacity": 0.3
          },
          "ternary": {
           "aaxis": {
            "gridcolor": "white",
            "linecolor": "white",
            "showgrid": true,
            "tickcolor": "rgb(51,51,51)",
            "ticks": "outside"
           },
           "baxis": {
            "gridcolor": "white",
            "linecolor": "white",
            "showgrid": true,
            "tickcolor": "rgb(51,51,51)",
            "ticks": "outside"
           },
           "bgcolor": "rgb(237,237,237)",
           "caxis": {
            "gridcolor": "white",
            "linecolor": "white",
            "showgrid": true,
            "tickcolor": "rgb(51,51,51)",
            "ticks": "outside"
           }
          },
          "xaxis": {
           "automargin": true,
           "gridcolor": "white",
           "linecolor": "white",
           "showgrid": true,
           "tickcolor": "rgb(51,51,51)",
           "ticks": "outside",
           "title": {
            "standoff": 15
           },
           "zerolinecolor": "white"
          },
          "yaxis": {
           "automargin": true,
           "gridcolor": "white",
           "linecolor": "white",
           "showgrid": true,
           "tickcolor": "rgb(51,51,51)",
           "ticks": "outside",
           "title": {
            "standoff": 15
           },
           "zerolinecolor": "white"
          }
         }
        },
        "title": {
         "text": "Performance of candidate"
        },
        "xaxis": {
         "anchor": "y",
         "domain": [
          0,
          1
         ],
         "title": {
          "text": "date"
         }
        },
        "yaxis": {
         "anchor": "x",
         "domain": [
          0,
          1
         ],
         "title": {
          "text": "percentile"
         }
        }
       }
      },
      "text/html": [
       "<div>                            <div id=\"f6b1850d-870f-4595-82f1-e50644e57ba7\" class=\"plotly-graph-div\" style=\"height:525px; width:100%;\"></div>            <script type=\"text/javascript\">                require([\"plotly\"], function(Plotly) {                    window.PLOTLYENV=window.PLOTLYENV || {};                                    if (document.getElementById(\"f6b1850d-870f-4595-82f1-e50644e57ba7\")) {                    Plotly.newPlot(                        \"f6b1850d-870f-4595-82f1-e50644e57ba7\",                        [{\"customdata\": [[277.0, 215.5, 4.0], [276.0, 199.6, 5.0], [250.0, 223.7, 9.0], [249.0, 171.9, 7.0], [246.0, 222.2, 5.0], [236.0, 199.6, 9.0], [221.0, 175.8, 10.0], [221.0, 207.7, 6.0], [216.0, 216.0, 1.0], [213.0, 164.9, 9.0], [194.0, 136.7, 9.0], [187.0, 121.6, 5.0], [154.0, 155.7, 10.0], [117.0, 92.0, 4.0]], \"hovertemplate\": \"sub_id=10<br>percentile=%{y}<br>total_marks=%{marker.size}<br>scored_marks=%{customdata[0]:}<br>avg_marks=%{customdata[1]:}<br>total_candidates=%{customdata[2]:}<extra></extra>\", \"legendgroup\": \"10\", \"marker\": {\"color\": \"#F8766D\", \"size\": [360.0, 360.0, 360.0, 360.0, 360.0, 360.0, 360.0, 360.0, 360.0, 360.0, 360.0, 360.0, 360.0, 360.0], \"sizemode\": \"area\", \"sizeref\": 0.9, \"symbol\": \"circle\"}, \"mode\": \"markers\", \"name\": \"10\", \"orientation\": \"v\", \"showlegend\": true, \"type\": \"scatter\", \"x\": [\"2020-07-26\", \"2020-08-09\", \"2020-07-19\", \"2020-08-23\", \"2020-12-13\", \"2020-07-12\", \"2020-07-05\", \"2020-09-20\", \"2021-01-24\", \"2020-09-01\", \"2020-06-28\", \"2020-09-13\", \"2020-09-06\", \"2020-09-27\"], \"xaxis\": \"x\", \"y\": [100.0, 100.0, 77.8, 100.0, 80.0, 100.0, 90.0, 66.7, 100.0, 77.8, 100.0, 100.0, 40.0, 87.5], \"yaxis\": \"y\"}, {\"customdata\": [[103.0, 72.0, 6.0], [93.0, 59.8, 5.0], [85.0, 53.7, 6.0], [71.0, 55.7, 3.0], [70.0, 70.0, 1.0], [69.0, 99.5, 4.0], [63.0, 76.5, 6.0], [49.0, 69.8, 5.0], [42.0, 58.0, 7.0]], \"hovertemplate\": \"sub_id=9<br>percentile=%{y}<br>total_marks=%{marker.size}<br>scored_marks=%{customdata[0]:}<br>avg_marks=%{customdata[1]:}<br>total_candidates=%{customdata[2]:}<extra></extra>\", \"legendgroup\": \"9\", \"marker\": {\"color\": \"#A3A500\", \"size\": [180.0, 180.0, 180.0, 180.0, 180.0, 180.0, 180.0, 180.0, 180.0], \"sizemode\": \"area\", \"sizeref\": 0.9, \"symbol\": \"circle\"}, \"mode\": \"markers\", \"name\": \"9\", \"orientation\": \"v\", \"showlegend\": true, \"type\": \"scatter\", \"x\": [\"2020-08-23\", \"2020-09-20\", \"2020-08-09\", \"2020-09-13\", \"2021-01-10\", \"2020-07-26\", \"2020-09-01\", \"2020-07-05\", \"2020-07-12\"], \"xaxis\": \"x\", \"y\": [83.3, 100.0, 100.0, 66.7, 100.0, 25.0, 33.3, 20.0, 57.1], \"yaxis\": \"y\"}, {\"customdata\": [[77.0, 66.8, 4.0], [74.0, 70.1, 8.0], [58.0, 54.9, 7.0], [57.0, 67.4, 8.0], [52.0, 52.3, 6.0], [30.0, 53.0, 4.0], [29.0, 38.0, 5.0], [13.0, 29.0, 4.0], [10.0, 11.9, 7.0], [6.0, 5.5, 2.0], [-9.0, -5.8, 4.0]], \"hovertemplate\": \"sub_id=7<br>percentile=%{y}<br>total_marks=%{marker.size}<br>scored_marks=%{customdata[0]:}<br>avg_marks=%{customdata[1]:}<br>total_candidates=%{customdata[2]:}<extra></extra>\", \"legendgroup\": \"7\", \"marker\": {\"color\": \"#00BF7D\", \"size\": [180.0, 180.0, 180.0, 180.0, 180.0, 180.0, 180.0, 180.0, 180.0, 180.0, 180.0], \"sizemode\": \"area\", \"sizeref\": 0.9, \"symbol\": \"circle\"}, \"mode\": \"markers\", \"name\": \"7\", \"orientation\": \"v\", \"showlegend\": true, \"type\": \"scatter\", \"x\": [\"2020-07-26\", \"2020-08-23\", \"2020-07-19\", \"2020-09-01\", \"2020-08-09\", \"2020-09-27\", \"2020-07-12\", \"2020-06-28\", \"2020-09-06\", \"2020-09-13\", \"2020-09-20\"], \"xaxis\": \"x\", \"y\": [50.0, 50.0, 71.4, 50.0, 50.0, 37.5, 60.0, 62.5, 57.1, 100.0, 50.0], \"yaxis\": \"y\"}],                        {\"legend\": {\"itemsizing\": \"constant\", \"title\": {\"text\": \"sub_id\"}, \"tracegroupgap\": 0}, \"template\": {\"data\": {\"bar\": [{\"error_x\": {\"color\": \"rgb(51,51,51)\"}, \"error_y\": {\"color\": \"rgb(51,51,51)\"}, \"marker\": {\"line\": {\"color\": \"rgb(237,237,237)\", \"width\": 0.5}}, \"type\": \"bar\"}], \"barpolar\": [{\"marker\": {\"line\": {\"color\": \"rgb(237,237,237)\", \"width\": 0.5}}, \"type\": \"barpolar\"}], \"carpet\": [{\"aaxis\": {\"endlinecolor\": \"rgb(51,51,51)\", \"gridcolor\": \"white\", \"linecolor\": \"white\", \"minorgridcolor\": \"white\", \"startlinecolor\": \"rgb(51,51,51)\"}, \"baxis\": {\"endlinecolor\": \"rgb(51,51,51)\", \"gridcolor\": \"white\", \"linecolor\": \"white\", \"minorgridcolor\": \"white\", \"startlinecolor\": \"rgb(51,51,51)\"}, \"type\": \"carpet\"}], \"choropleth\": [{\"colorbar\": {\"outlinewidth\": 0, \"tickcolor\": \"rgb(237,237,237)\", \"ticklen\": 6, \"ticks\": \"inside\"}, \"type\": \"choropleth\"}], \"contour\": [{\"colorbar\": {\"outlinewidth\": 0, \"tickcolor\": \"rgb(237,237,237)\", \"ticklen\": 6, \"ticks\": \"inside\"}, \"colorscale\": [[0, \"rgb(20,44,66)\"], [1, \"rgb(90,179,244)\"]], \"type\": \"contour\"}], \"contourcarpet\": [{\"colorbar\": {\"outlinewidth\": 0, \"tickcolor\": \"rgb(237,237,237)\", \"ticklen\": 6, \"ticks\": \"inside\"}, \"type\": \"contourcarpet\"}], \"heatmap\": [{\"colorbar\": {\"outlinewidth\": 0, \"tickcolor\": \"rgb(237,237,237)\", \"ticklen\": 6, \"ticks\": \"inside\"}, \"colorscale\": [[0, \"rgb(20,44,66)\"], [1, \"rgb(90,179,244)\"]], \"type\": \"heatmap\"}], \"heatmapgl\": [{\"colorbar\": {\"outlinewidth\": 0, \"tickcolor\": \"rgb(237,237,237)\", \"ticklen\": 6, \"ticks\": \"inside\"}, \"colorscale\": [[0, \"rgb(20,44,66)\"], [1, \"rgb(90,179,244)\"]], \"type\": \"heatmapgl\"}], \"histogram\": [{\"marker\": {\"colorbar\": {\"outlinewidth\": 0, \"tickcolor\": \"rgb(237,237,237)\", \"ticklen\": 6, \"ticks\": \"inside\"}}, \"type\": \"histogram\"}], \"histogram2d\": [{\"colorbar\": {\"outlinewidth\": 0, \"tickcolor\": \"rgb(237,237,237)\", \"ticklen\": 6, \"ticks\": \"inside\"}, \"colorscale\": [[0, \"rgb(20,44,66)\"], [1, \"rgb(90,179,244)\"]], \"type\": \"histogram2d\"}], \"histogram2dcontour\": [{\"colorbar\": {\"outlinewidth\": 0, \"tickcolor\": \"rgb(237,237,237)\", \"ticklen\": 6, \"ticks\": \"inside\"}, \"colorscale\": [[0, \"rgb(20,44,66)\"], [1, \"rgb(90,179,244)\"]], \"type\": \"histogram2dcontour\"}], \"mesh3d\": [{\"colorbar\": {\"outlinewidth\": 0, \"tickcolor\": \"rgb(237,237,237)\", \"ticklen\": 6, \"ticks\": \"inside\"}, \"type\": \"mesh3d\"}], \"parcoords\": [{\"line\": {\"colorbar\": {\"outlinewidth\": 0, \"tickcolor\": \"rgb(237,237,237)\", \"ticklen\": 6, \"ticks\": \"inside\"}}, \"type\": \"parcoords\"}], \"pie\": [{\"automargin\": true, \"type\": \"pie\"}], \"scatter\": [{\"marker\": {\"colorbar\": {\"outlinewidth\": 0, \"tickcolor\": \"rgb(237,237,237)\", \"ticklen\": 6, \"ticks\": \"inside\"}}, \"type\": \"scatter\"}], \"scatter3d\": [{\"line\": {\"colorbar\": {\"outlinewidth\": 0, \"tickcolor\": \"rgb(237,237,237)\", \"ticklen\": 6, \"ticks\": \"inside\"}}, \"marker\": {\"colorbar\": {\"outlinewidth\": 0, \"tickcolor\": \"rgb(237,237,237)\", \"ticklen\": 6, \"ticks\": \"inside\"}}, \"type\": \"scatter3d\"}], \"scattercarpet\": [{\"marker\": {\"colorbar\": {\"outlinewidth\": 0, \"tickcolor\": \"rgb(237,237,237)\", \"ticklen\": 6, \"ticks\": \"inside\"}}, \"type\": \"scattercarpet\"}], \"scattergeo\": [{\"marker\": {\"colorbar\": {\"outlinewidth\": 0, \"tickcolor\": \"rgb(237,237,237)\", \"ticklen\": 6, \"ticks\": \"inside\"}}, \"type\": \"scattergeo\"}], \"scattergl\": [{\"marker\": {\"colorbar\": {\"outlinewidth\": 0, \"tickcolor\": \"rgb(237,237,237)\", \"ticklen\": 6, \"ticks\": \"inside\"}}, \"type\": \"scattergl\"}], \"scattermapbox\": [{\"marker\": {\"colorbar\": {\"outlinewidth\": 0, \"tickcolor\": \"rgb(237,237,237)\", \"ticklen\": 6, \"ticks\": \"inside\"}}, \"type\": \"scattermapbox\"}], \"scatterpolar\": [{\"marker\": {\"colorbar\": {\"outlinewidth\": 0, \"tickcolor\": \"rgb(237,237,237)\", \"ticklen\": 6, \"ticks\": \"inside\"}}, \"type\": \"scatterpolar\"}], \"scatterpolargl\": [{\"marker\": {\"colorbar\": {\"outlinewidth\": 0, \"tickcolor\": \"rgb(237,237,237)\", \"ticklen\": 6, \"ticks\": \"inside\"}}, \"type\": \"scatterpolargl\"}], \"scatterternary\": [{\"marker\": {\"colorbar\": {\"outlinewidth\": 0, \"tickcolor\": \"rgb(237,237,237)\", \"ticklen\": 6, \"ticks\": \"inside\"}}, \"type\": \"scatterternary\"}], \"surface\": [{\"colorbar\": {\"outlinewidth\": 0, \"tickcolor\": \"rgb(237,237,237)\", \"ticklen\": 6, \"ticks\": \"inside\"}, \"colorscale\": [[0, \"rgb(20,44,66)\"], [1, \"rgb(90,179,244)\"]], \"type\": \"surface\"}], \"table\": [{\"cells\": {\"fill\": {\"color\": \"rgb(237,237,237)\"}, \"line\": {\"color\": \"white\"}}, \"header\": {\"fill\": {\"color\": \"rgb(217,217,217)\"}, \"line\": {\"color\": \"white\"}}, \"type\": \"table\"}]}, \"layout\": {\"annotationdefaults\": {\"arrowhead\": 0, \"arrowwidth\": 1}, \"autotypenumbers\": \"strict\", \"coloraxis\": {\"colorbar\": {\"outlinewidth\": 0, \"tickcolor\": \"rgb(237,237,237)\", \"ticklen\": 6, \"ticks\": \"inside\"}}, \"colorscale\": {\"sequential\": [[0, \"rgb(20,44,66)\"], [1, \"rgb(90,179,244)\"]], \"sequentialminus\": [[0, \"rgb(20,44,66)\"], [1, \"rgb(90,179,244)\"]]}, \"colorway\": [\"#F8766D\", \"#A3A500\", \"#00BF7D\", \"#00B0F6\", \"#E76BF3\"], \"font\": {\"color\": \"rgb(51,51,51)\"}, \"geo\": {\"bgcolor\": \"white\", \"lakecolor\": \"white\", \"landcolor\": \"rgb(237,237,237)\", \"showlakes\": true, \"showland\": true, \"subunitcolor\": \"white\"}, \"hoverlabel\": {\"align\": \"left\"}, \"hovermode\": \"closest\", \"paper_bgcolor\": \"white\", \"plot_bgcolor\": \"rgb(237,237,237)\", \"polar\": {\"angularaxis\": {\"gridcolor\": \"white\", \"linecolor\": \"white\", \"showgrid\": true, \"tickcolor\": \"rgb(51,51,51)\", \"ticks\": \"outside\"}, \"bgcolor\": \"rgb(237,237,237)\", \"radialaxis\": {\"gridcolor\": \"white\", \"linecolor\": \"white\", \"showgrid\": true, \"tickcolor\": \"rgb(51,51,51)\", \"ticks\": \"outside\"}}, \"scene\": {\"xaxis\": {\"backgroundcolor\": \"rgb(237,237,237)\", \"gridcolor\": \"white\", \"gridwidth\": 2, \"linecolor\": \"white\", \"showbackground\": true, \"showgrid\": true, \"tickcolor\": \"rgb(51,51,51)\", \"ticks\": \"outside\", \"zerolinecolor\": \"white\"}, \"yaxis\": {\"backgroundcolor\": \"rgb(237,237,237)\", \"gridcolor\": \"white\", \"gridwidth\": 2, \"linecolor\": \"white\", \"showbackground\": true, \"showgrid\": true, \"tickcolor\": \"rgb(51,51,51)\", \"ticks\": \"outside\", \"zerolinecolor\": \"white\"}, \"zaxis\": {\"backgroundcolor\": \"rgb(237,237,237)\", \"gridcolor\": \"white\", \"gridwidth\": 2, \"linecolor\": \"white\", \"showbackground\": true, \"showgrid\": true, \"tickcolor\": \"rgb(51,51,51)\", \"ticks\": \"outside\", \"zerolinecolor\": \"white\"}}, \"shapedefaults\": {\"fillcolor\": \"black\", \"line\": {\"width\": 0}, \"opacity\": 0.3}, \"ternary\": {\"aaxis\": {\"gridcolor\": \"white\", \"linecolor\": \"white\", \"showgrid\": true, \"tickcolor\": \"rgb(51,51,51)\", \"ticks\": \"outside\"}, \"baxis\": {\"gridcolor\": \"white\", \"linecolor\": \"white\", \"showgrid\": true, \"tickcolor\": \"rgb(51,51,51)\", \"ticks\": \"outside\"}, \"bgcolor\": \"rgb(237,237,237)\", \"caxis\": {\"gridcolor\": \"white\", \"linecolor\": \"white\", \"showgrid\": true, \"tickcolor\": \"rgb(51,51,51)\", \"ticks\": \"outside\"}}, \"xaxis\": {\"automargin\": true, \"gridcolor\": \"white\", \"linecolor\": \"white\", \"showgrid\": true, \"tickcolor\": \"rgb(51,51,51)\", \"ticks\": \"outside\", \"title\": {\"standoff\": 15}, \"zerolinecolor\": \"white\"}, \"yaxis\": {\"automargin\": true, \"gridcolor\": \"white\", \"linecolor\": \"white\", \"showgrid\": true, \"tickcolor\": \"rgb(51,51,51)\", \"ticks\": \"outside\", \"title\": {\"standoff\": 15}, \"zerolinecolor\": \"white\"}}}, \"title\": {\"text\": \"Performance of candidate\"}, \"xaxis\": {\"anchor\": \"y\", \"domain\": [0.0, 1.0], \"title\": {\"text\": \"date\"}}, \"yaxis\": {\"anchor\": \"x\", \"domain\": [0.0, 1.0], \"title\": {\"text\": \"percentile\"}}},                        {\"responsive\": true}                    ).then(function(){\n",
       "                            \n",
       "var gd = document.getElementById('f6b1850d-870f-4595-82f1-e50644e57ba7');\n",
       "var x = new MutationObserver(function (mutations, observer) {{\n",
       "        var display = window.getComputedStyle(gd).display;\n",
       "        if (!display || display === 'none') {{\n",
       "            console.log([gd, 'removed!']);\n",
       "            Plotly.purge(gd);\n",
       "            observer.disconnect();\n",
       "        }}\n",
       "}});\n",
       "\n",
       "// Listen for the removal of the full notebook cells\n",
       "var notebookContainer = gd.closest('#notebook-container');\n",
       "if (notebookContainer) {{\n",
       "    x.observe(notebookContainer, {childList: true});\n",
       "}}\n",
       "\n",
       "// Listen for the clearing of the current output cell\n",
       "var outputEl = gd.closest('.output');\n",
       "if (outputEl) {{\n",
       "    x.observe(outputEl, {childList: true});\n",
       "}}\n",
       "\n",
       "                        })                };                });            </script>        </div>"
      ]
     },
     "metadata": {},
     "output_type": "display_data"
    }
   ],
   "source": [
    "#x = df_o.groupby(['reg_no']).get_group(\t'ACAD-203006')\n",
    "#y = x.groupby(['date', 'percentile', 'sub_id','total_marks', 'exam_id']).agg({'nor_marks' : 'mean'})\n",
    "\n",
    "\n",
    "fig_n = px.scatter(df_o.query(\"reg_no == 'ACAD-203001'\"), x=\"date\", y=\"percentile\",\n",
    "                  color = 'sub_id', size = 'total_marks', hover_data  = {'date': False , \n",
    "                                                                         'scored_marks' : ':',\n",
    "                                                                          'avg_marks' : ':',\n",
    "                                                                         'total_candidates' : ':'\n",
    "                                                                        },\n",
    "                 template = 'ggplot2', size_max = 20, title = \"Performance of candidate\")\n",
    "\n",
    "#fig_n.write_html(\"fig_ACAD_203001.html\")\n",
    "fig_n.show()"
   ]
  },
  {
   "cell_type": "code",
   "execution_count": 35,
   "metadata": {},
   "outputs": [],
   "source": [
    "df_o['date'] = pd.to_datetime(df_o['date'])"
   ]
  },
  {
   "cell_type": "code",
   "execution_count": 36,
   "metadata": {
    "scrolled": false
   },
   "outputs": [
    {
     "data": {
      "application/vnd.plotly.v1+json": {
       "config": {
        "plotlyServerURL": "https://plot.ly"
       },
       "data": [
        {
         "customdata": [
          [
           "10",
           249,
           360,
           223.7,
           9,
           "32",
           66.7,
           "2020-07-19T00:00:00"
          ],
          [
           "10",
           220,
           360,
           175.8,
           10,
           "24",
           80,
           "2020-07-05T00:00:00"
          ],
          [
           "10",
           212,
           360,
           215.5,
           4,
           "34",
           50,
           "2020-07-26T00:00:00"
          ],
          [
           "10",
           211,
           360,
           199.6,
           9,
           "28",
           66.7,
           "2020-07-12T00:00:00"
          ],
          [
           "10",
           179,
           360,
           222.2,
           5,
           "70",
           20,
           "2020-12-13T00:00:00"
          ],
          [
           "10",
           142,
           360,
           173.5,
           2,
           "61",
           50,
           "2020-10-18T00:00:00"
          ],
          [
           "10",
           141,
           360,
           207.7,
           6,
           "49",
           16.7,
           "2020-09-20T00:00:00"
          ],
          [
           "10",
           138,
           360,
           199.6,
           5,
           "35",
           20,
           "2020-08-09T00:00:00"
          ],
          [
           "10",
           113,
           360,
           136.7,
           9,
           "20",
           22.2,
           "2020-06-28T00:00:00"
          ],
          [
           "10",
           104,
           360,
           197.8,
           4,
           "60",
           25,
           "2020-10-11T00:00:00"
          ],
          [
           "10",
           103,
           360,
           163,
           6,
           "16",
           33.3,
           "2020-06-21T00:00:00"
          ],
          [
           "10",
           89,
           360,
           92,
           4,
           "55",
           50,
           "2020-09-27T00:00:00"
          ],
          [
           "10",
           81,
           360,
           121.6,
           5,
           "45",
           40,
           "2020-09-13T00:00:00"
          ],
          [
           "10",
           76,
           360,
           164.9,
           9,
           "39",
           22.2,
           "2020-09-01T00:00:00"
          ],
          [
           "10",
           68,
           360,
           171.9,
           7,
           "37",
           14.3,
           "2020-08-23T00:00:00"
          ],
          [
           "10",
           54,
           360,
           155.7,
           10,
           "41",
           10,
           "2020-09-06T00:00:00"
          ],
          [
           "10",
           40,
           360,
           146.5,
           10,
           "14",
           20,
           "2020-06-19T00:00:00"
          ]
         ],
         "hovertemplate": "<br><b>Your marks</b>: <b>%{customdata[1]}<br><br>Total marks: %{customdata[2]}<br>Average marks: %{customdata[3]}<br>Total candidates: %{customdata[4]}<br>Exam ID: %{customdata[5]}<br>Percentile: %{customdata[6]}<br>Date: %{customdata[7]|%d-%m-%Y}",
         "legendgroup": "10",
         "marker": {
          "color": "#636efa",
          "size": [
           360,
           360,
           360,
           360,
           360,
           360,
           360,
           360,
           360,
           360,
           360,
           360,
           360,
           360,
           360,
           360,
           360
          ],
          "sizemode": "area",
          "sizeref": 1.6,
          "symbol": "circle"
         },
         "mode": "markers",
         "name": "10",
         "orientation": "v",
         "showlegend": true,
         "type": "scatter",
         "x": [
          "2020-07-19T00:00:00",
          "2020-07-05T00:00:00",
          "2020-07-26T00:00:00",
          "2020-07-12T00:00:00",
          "2020-12-13T00:00:00",
          "2020-10-18T00:00:00",
          "2020-09-20T00:00:00",
          "2020-08-09T00:00:00",
          "2020-06-28T00:00:00",
          "2020-10-11T00:00:00",
          "2020-06-21T00:00:00",
          "2020-09-27T00:00:00",
          "2020-09-13T00:00:00",
          "2020-09-01T00:00:00",
          "2020-08-23T00:00:00",
          "2020-09-06T00:00:00",
          "2020-06-19T00:00:00"
         ],
         "xaxis": "x",
         "y": [
          66.7,
          80,
          50,
          66.7,
          20,
          50,
          16.7,
          20,
          22.2,
          25,
          33.3,
          50,
          40,
          22.2,
          14.3,
          10,
          20
         ],
         "yaxis": "y"
        },
        {
         "hovertemplate": "",
         "legendgroup": "10",
         "marker": {
          "color": "#636efa",
          "symbol": "circle"
         },
         "mode": "lines",
         "name": "10",
         "showlegend": false,
         "type": "scatter",
         "x": [
          "2020-06-19T00:00:00",
          "2020-06-21T00:00:00",
          "2020-06-28T00:00:00",
          "2020-07-05T00:00:00",
          "2020-07-12T00:00:00",
          "2020-07-19T00:00:00",
          "2020-07-26T00:00:00",
          "2020-08-09T00:00:00",
          "2020-08-23T00:00:00",
          "2020-09-01T00:00:00",
          "2020-09-06T00:00:00",
          "2020-09-13T00:00:00",
          "2020-09-20T00:00:00",
          "2020-09-27T00:00:00",
          "2020-10-11T00:00:00",
          "2020-10-18T00:00:00",
          "2020-12-13T00:00:00"
         ],
         "xaxis": "x",
         "y": [
          26.53438140090452,
          33.511810454045424,
          36.394635684113275,
          32.6308026759079,
          29.220350642823433,
          26.013245148718447,
          23.039668429202962,
          22.654230615407595,
          26.253873769257805,
          37.929415293552715,
          38.260436232895344,
          38.56601721830251,
          41.50833480337192,
          43.58917601941744,
          45.49300512486121,
          47.110861743739804,
          48.158475747410364
         ],
         "yaxis": "y"
        },
        {
         "customdata": [
          [
           "9",
           83,
           180,
           99.5,
           4,
           "34",
           62.5,
           "2020-07-26T00:00:00"
          ],
          [
           "9",
           83,
           180,
           69.8,
           5,
           "24",
           80,
           "2020-07-05T00:00:00"
          ],
          [
           "9",
           66,
           180,
           106.8,
           8,
           "14",
           18.8,
           "2020-06-19T00:00:00"
          ],
          [
           "9",
           62,
           180,
           74.3,
           6,
           "32",
           50,
           "2020-07-19T00:00:00"
          ],
          [
           "9",
           55,
           180,
           58,
           7,
           "28",
           71.4,
           "2020-07-12T00:00:00"
          ],
          [
           "9",
           47,
           180,
           66.3,
           3,
           "60",
           66.7,
           "2020-10-11T00:00:00"
          ],
          [
           "9",
           46,
           180,
           56,
           2,
           "55",
           50,
           "2020-09-27T00:00:00"
          ],
          [
           "9",
           46,
           180,
           59.8,
           5,
           "49",
           60,
           "2020-09-20T00:00:00"
          ],
          [
           "9",
           41,
           180,
           72.7,
           7,
           "20",
           42.9,
           "2020-06-28T00:00:00"
          ],
          [
           "9",
           35,
           180,
           76.5,
           6,
           "39",
           16.7,
           "2020-09-01T00:00:00"
          ],
          [
           "9",
           35,
           180,
           74.7,
           6,
           "16",
           16.7,
           "2020-06-21T00:00:00"
          ],
          [
           "9",
           32,
           180,
           57.8,
           6,
           "41",
           16.7,
           "2020-09-06T00:00:00"
          ],
          [
           "9",
           25,
           180,
           25,
           1,
           "61",
           100,
           "2020-10-18T00:00:00"
          ],
          [
           "9",
           17,
           180,
           72,
           6,
           "37",
           16.7,
           "2020-08-23T00:00:00"
          ],
          [
           "9",
           16,
           180,
           55.7,
           3,
           "45",
           33.3,
           "2020-09-13T00:00:00"
          ]
         ],
         "hovertemplate": "<br><b>Your marks</b>: <b>%{customdata[1]}<br><br>Total marks: %{customdata[2]}<br>Average marks: %{customdata[3]}<br>Total candidates: %{customdata[4]}<br>Exam ID: %{customdata[5]}<br>Percentile: %{customdata[6]}<br>Date: %{customdata[7]|%d-%m-%Y}",
         "legendgroup": "9",
         "marker": {
          "color": "#EF553B",
          "size": [
           180,
           180,
           180,
           180,
           180,
           180,
           180,
           180,
           180,
           180,
           180,
           180,
           180,
           180,
           180
          ],
          "sizemode": "area",
          "sizeref": 1.6,
          "symbol": "circle"
         },
         "mode": "markers",
         "name": "9",
         "orientation": "v",
         "showlegend": true,
         "type": "scatter",
         "x": [
          "2020-07-26T00:00:00",
          "2020-07-05T00:00:00",
          "2020-06-19T00:00:00",
          "2020-07-19T00:00:00",
          "2020-07-12T00:00:00",
          "2020-10-11T00:00:00",
          "2020-09-27T00:00:00",
          "2020-09-20T00:00:00",
          "2020-06-28T00:00:00",
          "2020-09-01T00:00:00",
          "2020-06-21T00:00:00",
          "2020-09-06T00:00:00",
          "2020-10-18T00:00:00",
          "2020-08-23T00:00:00",
          "2020-09-13T00:00:00"
         ],
         "xaxis": "x",
         "y": [
          62.5,
          80,
          18.8,
          50,
          71.4,
          66.7,
          50,
          60,
          42.9,
          16.7,
          16.7,
          16.7,
          100,
          16.7,
          33.3
         ],
         "yaxis": "y"
        },
        {
         "hovertemplate": "",
         "legendgroup": "9",
         "marker": {
          "color": "#EF553B",
          "symbol": "circle"
         },
         "mode": "lines",
         "name": "9",
         "showlegend": false,
         "type": "scatter",
         "x": [
          "2020-06-19T00:00:00",
          "2020-06-21T00:00:00",
          "2020-06-28T00:00:00",
          "2020-07-05T00:00:00",
          "2020-07-12T00:00:00",
          "2020-07-19T00:00:00",
          "2020-07-26T00:00:00",
          "2020-08-23T00:00:00",
          "2020-09-01T00:00:00",
          "2020-09-06T00:00:00",
          "2020-09-13T00:00:00",
          "2020-09-20T00:00:00",
          "2020-09-27T00:00:00",
          "2020-10-11T00:00:00",
          "2020-10-18T00:00:00"
         ],
         "xaxis": "x",
         "y": [
          88.84717426766342,
          78.21533425568829,
          57.12218135372673,
          46.754622525986015,
          36.87084663157186,
          28.02690180249325,
          27.819324386540128,
          38.14101549411521,
          38.56720826419273,
          38.968349825699285,
          42.65091915987327,
          44.24257733497491,
          45.268659628306764,
          46.00297157312778,
          46.24825885220221
         ],
         "yaxis": "y"
        },
        {
         "customdata": [
          [
           "7",
           39,
           180,
           39,
           1,
           "70",
           100,
           "2020-12-13T00:00:00"
          ],
          [
           "7",
           38,
           180,
           40.2,
           4,
           "24",
           50,
           "2020-07-05T00:00:00"
          ],
          [
           "7",
           33,
           180,
           38,
           5,
           "28",
           80,
           "2020-07-12T00:00:00"
          ],
          [
           "7",
           30,
           180,
           53,
           4,
           "55",
           37.5,
           "2020-09-27T00:00:00"
          ],
          [
           "7",
           27,
           180,
           54.9,
           7,
           "32",
           28.6,
           "2020-07-19T00:00:00"
          ],
          [
           "7",
           27,
           180,
           66.8,
           4,
           "34",
           25,
           "2020-07-26T00:00:00"
          ],
          [
           "7",
           18,
           180,
           52.3,
           6,
           "35",
           16.7,
           "2020-08-09T00:00:00"
          ],
          [
           "7",
           13,
           180,
           26,
           2,
           "61",
           50,
           "2020-10-18T00:00:00"
          ],
          [
           "7",
           9,
           180,
           67.4,
           8,
           "39",
           12.5,
           "2020-09-01T00:00:00"
          ],
          [
           "7",
           5,
           180,
           5.5,
           2,
           "45",
           50,
           "2020-09-13T00:00:00"
          ],
          [
           "7",
           5,
           180,
           -5.8,
           4,
           "49",
           100,
           "2020-09-20T00:00:00"
          ],
          [
           "7",
           -4,
           180,
           70.1,
           8,
           "37",
           12.5,
           "2020-08-23T00:00:00"
          ],
          [
           "7",
           -4,
           180,
           11.9,
           7,
           "41",
           21.4,
           "2020-09-06T00:00:00"
          ]
         ],
         "hovertemplate": "<br><b>Your marks</b>: <b>%{customdata[1]}<br><br>Total marks: %{customdata[2]}<br>Average marks: %{customdata[3]}<br>Total candidates: %{customdata[4]}<br>Exam ID: %{customdata[5]}<br>Percentile: %{customdata[6]}<br>Date: %{customdata[7]|%d-%m-%Y}",
         "legendgroup": "7",
         "marker": {
          "color": "#00cc96",
          "size": [
           180,
           180,
           180,
           180,
           180,
           180,
           180,
           180,
           180,
           180,
           180,
           180,
           180
          ],
          "sizemode": "area",
          "sizeref": 1.6,
          "symbol": "circle"
         },
         "mode": "markers",
         "name": "7",
         "orientation": "v",
         "showlegend": true,
         "type": "scatter",
         "x": [
          "2020-12-13T00:00:00",
          "2020-07-05T00:00:00",
          "2020-07-12T00:00:00",
          "2020-09-27T00:00:00",
          "2020-07-19T00:00:00",
          "2020-07-26T00:00:00",
          "2020-08-09T00:00:00",
          "2020-10-18T00:00:00",
          "2020-09-01T00:00:00",
          "2020-09-13T00:00:00",
          "2020-09-20T00:00:00",
          "2020-08-23T00:00:00",
          "2020-09-06T00:00:00"
         ],
         "xaxis": "x",
         "y": [
          100,
          50,
          80,
          37.5,
          28.6,
          25,
          16.7,
          50,
          12.5,
          50,
          100,
          12.5,
          21.4
         ],
         "yaxis": "y"
        },
        {
         "hovertemplate": "",
         "legendgroup": "7",
         "marker": {
          "color": "#00cc96",
          "symbol": "circle"
         },
         "mode": "lines",
         "name": "7",
         "showlegend": false,
         "type": "scatter",
         "x": [
          "2020-07-05T00:00:00",
          "2020-07-12T00:00:00",
          "2020-07-19T00:00:00",
          "2020-07-26T00:00:00",
          "2020-08-09T00:00:00",
          "2020-08-23T00:00:00",
          "2020-09-01T00:00:00",
          "2020-09-06T00:00:00",
          "2020-09-13T00:00:00",
          "2020-09-20T00:00:00",
          "2020-09-27T00:00:00",
          "2020-10-18T00:00:00",
          "2020-12-13T00:00:00"
         ],
         "xaxis": "x",
         "y": [
          98.57293795847379,
          53.158388824665685,
          38.944078727187446,
          34.87991648919928,
          30.898670971025048,
          26.98894501816938,
          19.722526114549094,
          17.658194850932617,
          25.350908235026548,
          25.716649367356503,
          31.47764656346913,
          37.921180961407345,
          44.76743907650459
         ],
         "yaxis": "y"
        }
       ],
       "layout": {
        "hoverlabel": {
         "align": "right"
        },
        "legend": {
         "itemsizing": "constant",
         "title": {
          "text": "sub_id"
         },
         "tracegroupgap": 0
        },
        "margin": {
         "t": 60
        },
        "template": {
         "data": {
          "bar": [
           {
            "error_x": {
             "color": "#f2f5fa"
            },
            "error_y": {
             "color": "#f2f5fa"
            },
            "marker": {
             "line": {
              "color": "rgb(17,17,17)",
              "width": 0.5
             }
            },
            "type": "bar"
           }
          ],
          "barpolar": [
           {
            "marker": {
             "line": {
              "color": "rgb(17,17,17)",
              "width": 0.5
             }
            },
            "type": "barpolar"
           }
          ],
          "carpet": [
           {
            "aaxis": {
             "endlinecolor": "#A2B1C6",
             "gridcolor": "#506784",
             "linecolor": "#506784",
             "minorgridcolor": "#506784",
             "startlinecolor": "#A2B1C6"
            },
            "baxis": {
             "endlinecolor": "#A2B1C6",
             "gridcolor": "#506784",
             "linecolor": "#506784",
             "minorgridcolor": "#506784",
             "startlinecolor": "#A2B1C6"
            },
            "type": "carpet"
           }
          ],
          "choropleth": [
           {
            "colorbar": {
             "outlinewidth": 0,
             "ticks": ""
            },
            "type": "choropleth"
           }
          ],
          "contour": [
           {
            "colorbar": {
             "outlinewidth": 0,
             "ticks": ""
            },
            "colorscale": [
             [
              0,
              "#0d0887"
             ],
             [
              0.1111111111111111,
              "#46039f"
             ],
             [
              0.2222222222222222,
              "#7201a8"
             ],
             [
              0.3333333333333333,
              "#9c179e"
             ],
             [
              0.4444444444444444,
              "#bd3786"
             ],
             [
              0.5555555555555556,
              "#d8576b"
             ],
             [
              0.6666666666666666,
              "#ed7953"
             ],
             [
              0.7777777777777778,
              "#fb9f3a"
             ],
             [
              0.8888888888888888,
              "#fdca26"
             ],
             [
              1,
              "#f0f921"
             ]
            ],
            "type": "contour"
           }
          ],
          "contourcarpet": [
           {
            "colorbar": {
             "outlinewidth": 0,
             "ticks": ""
            },
            "type": "contourcarpet"
           }
          ],
          "heatmap": [
           {
            "colorbar": {
             "outlinewidth": 0,
             "ticks": ""
            },
            "colorscale": [
             [
              0,
              "#0d0887"
             ],
             [
              0.1111111111111111,
              "#46039f"
             ],
             [
              0.2222222222222222,
              "#7201a8"
             ],
             [
              0.3333333333333333,
              "#9c179e"
             ],
             [
              0.4444444444444444,
              "#bd3786"
             ],
             [
              0.5555555555555556,
              "#d8576b"
             ],
             [
              0.6666666666666666,
              "#ed7953"
             ],
             [
              0.7777777777777778,
              "#fb9f3a"
             ],
             [
              0.8888888888888888,
              "#fdca26"
             ],
             [
              1,
              "#f0f921"
             ]
            ],
            "type": "heatmap"
           }
          ],
          "heatmapgl": [
           {
            "colorbar": {
             "outlinewidth": 0,
             "ticks": ""
            },
            "colorscale": [
             [
              0,
              "#0d0887"
             ],
             [
              0.1111111111111111,
              "#46039f"
             ],
             [
              0.2222222222222222,
              "#7201a8"
             ],
             [
              0.3333333333333333,
              "#9c179e"
             ],
             [
              0.4444444444444444,
              "#bd3786"
             ],
             [
              0.5555555555555556,
              "#d8576b"
             ],
             [
              0.6666666666666666,
              "#ed7953"
             ],
             [
              0.7777777777777778,
              "#fb9f3a"
             ],
             [
              0.8888888888888888,
              "#fdca26"
             ],
             [
              1,
              "#f0f921"
             ]
            ],
            "type": "heatmapgl"
           }
          ],
          "histogram": [
           {
            "marker": {
             "colorbar": {
              "outlinewidth": 0,
              "ticks": ""
             }
            },
            "type": "histogram"
           }
          ],
          "histogram2d": [
           {
            "colorbar": {
             "outlinewidth": 0,
             "ticks": ""
            },
            "colorscale": [
             [
              0,
              "#0d0887"
             ],
             [
              0.1111111111111111,
              "#46039f"
             ],
             [
              0.2222222222222222,
              "#7201a8"
             ],
             [
              0.3333333333333333,
              "#9c179e"
             ],
             [
              0.4444444444444444,
              "#bd3786"
             ],
             [
              0.5555555555555556,
              "#d8576b"
             ],
             [
              0.6666666666666666,
              "#ed7953"
             ],
             [
              0.7777777777777778,
              "#fb9f3a"
             ],
             [
              0.8888888888888888,
              "#fdca26"
             ],
             [
              1,
              "#f0f921"
             ]
            ],
            "type": "histogram2d"
           }
          ],
          "histogram2dcontour": [
           {
            "colorbar": {
             "outlinewidth": 0,
             "ticks": ""
            },
            "colorscale": [
             [
              0,
              "#0d0887"
             ],
             [
              0.1111111111111111,
              "#46039f"
             ],
             [
              0.2222222222222222,
              "#7201a8"
             ],
             [
              0.3333333333333333,
              "#9c179e"
             ],
             [
              0.4444444444444444,
              "#bd3786"
             ],
             [
              0.5555555555555556,
              "#d8576b"
             ],
             [
              0.6666666666666666,
              "#ed7953"
             ],
             [
              0.7777777777777778,
              "#fb9f3a"
             ],
             [
              0.8888888888888888,
              "#fdca26"
             ],
             [
              1,
              "#f0f921"
             ]
            ],
            "type": "histogram2dcontour"
           }
          ],
          "mesh3d": [
           {
            "colorbar": {
             "outlinewidth": 0,
             "ticks": ""
            },
            "type": "mesh3d"
           }
          ],
          "parcoords": [
           {
            "line": {
             "colorbar": {
              "outlinewidth": 0,
              "ticks": ""
             }
            },
            "type": "parcoords"
           }
          ],
          "pie": [
           {
            "automargin": true,
            "type": "pie"
           }
          ],
          "scatter": [
           {
            "marker": {
             "line": {
              "color": "#283442"
             }
            },
            "type": "scatter"
           }
          ],
          "scatter3d": [
           {
            "line": {
             "colorbar": {
              "outlinewidth": 0,
              "ticks": ""
             }
            },
            "marker": {
             "colorbar": {
              "outlinewidth": 0,
              "ticks": ""
             }
            },
            "type": "scatter3d"
           }
          ],
          "scattercarpet": [
           {
            "marker": {
             "colorbar": {
              "outlinewidth": 0,
              "ticks": ""
             }
            },
            "type": "scattercarpet"
           }
          ],
          "scattergeo": [
           {
            "marker": {
             "colorbar": {
              "outlinewidth": 0,
              "ticks": ""
             }
            },
            "type": "scattergeo"
           }
          ],
          "scattergl": [
           {
            "marker": {
             "line": {
              "color": "#283442"
             }
            },
            "type": "scattergl"
           }
          ],
          "scattermapbox": [
           {
            "marker": {
             "colorbar": {
              "outlinewidth": 0,
              "ticks": ""
             }
            },
            "type": "scattermapbox"
           }
          ],
          "scatterpolar": [
           {
            "marker": {
             "colorbar": {
              "outlinewidth": 0,
              "ticks": ""
             }
            },
            "type": "scatterpolar"
           }
          ],
          "scatterpolargl": [
           {
            "marker": {
             "colorbar": {
              "outlinewidth": 0,
              "ticks": ""
             }
            },
            "type": "scatterpolargl"
           }
          ],
          "scatterternary": [
           {
            "marker": {
             "colorbar": {
              "outlinewidth": 0,
              "ticks": ""
             }
            },
            "type": "scatterternary"
           }
          ],
          "surface": [
           {
            "colorbar": {
             "outlinewidth": 0,
             "ticks": ""
            },
            "colorscale": [
             [
              0,
              "#0d0887"
             ],
             [
              0.1111111111111111,
              "#46039f"
             ],
             [
              0.2222222222222222,
              "#7201a8"
             ],
             [
              0.3333333333333333,
              "#9c179e"
             ],
             [
              0.4444444444444444,
              "#bd3786"
             ],
             [
              0.5555555555555556,
              "#d8576b"
             ],
             [
              0.6666666666666666,
              "#ed7953"
             ],
             [
              0.7777777777777778,
              "#fb9f3a"
             ],
             [
              0.8888888888888888,
              "#fdca26"
             ],
             [
              1,
              "#f0f921"
             ]
            ],
            "type": "surface"
           }
          ],
          "table": [
           {
            "cells": {
             "fill": {
              "color": "#506784"
             },
             "line": {
              "color": "rgb(17,17,17)"
             }
            },
            "header": {
             "fill": {
              "color": "#2a3f5f"
             },
             "line": {
              "color": "rgb(17,17,17)"
             }
            },
            "type": "table"
           }
          ]
         },
         "layout": {
          "annotationdefaults": {
           "arrowcolor": "#f2f5fa",
           "arrowhead": 0,
           "arrowwidth": 1
          },
          "autotypenumbers": "strict",
          "coloraxis": {
           "colorbar": {
            "outlinewidth": 0,
            "ticks": ""
           }
          },
          "colorscale": {
           "diverging": [
            [
             0,
             "#8e0152"
            ],
            [
             0.1,
             "#c51b7d"
            ],
            [
             0.2,
             "#de77ae"
            ],
            [
             0.3,
             "#f1b6da"
            ],
            [
             0.4,
             "#fde0ef"
            ],
            [
             0.5,
             "#f7f7f7"
            ],
            [
             0.6,
             "#e6f5d0"
            ],
            [
             0.7,
             "#b8e186"
            ],
            [
             0.8,
             "#7fbc41"
            ],
            [
             0.9,
             "#4d9221"
            ],
            [
             1,
             "#276419"
            ]
           ],
           "sequential": [
            [
             0,
             "#0d0887"
            ],
            [
             0.1111111111111111,
             "#46039f"
            ],
            [
             0.2222222222222222,
             "#7201a8"
            ],
            [
             0.3333333333333333,
             "#9c179e"
            ],
            [
             0.4444444444444444,
             "#bd3786"
            ],
            [
             0.5555555555555556,
             "#d8576b"
            ],
            [
             0.6666666666666666,
             "#ed7953"
            ],
            [
             0.7777777777777778,
             "#fb9f3a"
            ],
            [
             0.8888888888888888,
             "#fdca26"
            ],
            [
             1,
             "#f0f921"
            ]
           ],
           "sequentialminus": [
            [
             0,
             "#0d0887"
            ],
            [
             0.1111111111111111,
             "#46039f"
            ],
            [
             0.2222222222222222,
             "#7201a8"
            ],
            [
             0.3333333333333333,
             "#9c179e"
            ],
            [
             0.4444444444444444,
             "#bd3786"
            ],
            [
             0.5555555555555556,
             "#d8576b"
            ],
            [
             0.6666666666666666,
             "#ed7953"
            ],
            [
             0.7777777777777778,
             "#fb9f3a"
            ],
            [
             0.8888888888888888,
             "#fdca26"
            ],
            [
             1,
             "#f0f921"
            ]
           ]
          },
          "colorway": [
           "#636efa",
           "#EF553B",
           "#00cc96",
           "#ab63fa",
           "#FFA15A",
           "#19d3f3",
           "#FF6692",
           "#B6E880",
           "#FF97FF",
           "#FECB52"
          ],
          "font": {
           "color": "#f2f5fa"
          },
          "geo": {
           "bgcolor": "rgb(17,17,17)",
           "lakecolor": "rgb(17,17,17)",
           "landcolor": "rgb(17,17,17)",
           "showlakes": true,
           "showland": true,
           "subunitcolor": "#506784"
          },
          "hoverlabel": {
           "align": "left"
          },
          "hovermode": "closest",
          "mapbox": {
           "style": "dark"
          },
          "paper_bgcolor": "rgb(17,17,17)",
          "plot_bgcolor": "rgb(17,17,17)",
          "polar": {
           "angularaxis": {
            "gridcolor": "#506784",
            "linecolor": "#506784",
            "ticks": ""
           },
           "bgcolor": "rgb(17,17,17)",
           "radialaxis": {
            "gridcolor": "#506784",
            "linecolor": "#506784",
            "ticks": ""
           }
          },
          "scene": {
           "xaxis": {
            "backgroundcolor": "rgb(17,17,17)",
            "gridcolor": "#506784",
            "gridwidth": 2,
            "linecolor": "#506784",
            "showbackground": true,
            "ticks": "",
            "zerolinecolor": "#C8D4E3"
           },
           "yaxis": {
            "backgroundcolor": "rgb(17,17,17)",
            "gridcolor": "#506784",
            "gridwidth": 2,
            "linecolor": "#506784",
            "showbackground": true,
            "ticks": "",
            "zerolinecolor": "#C8D4E3"
           },
           "zaxis": {
            "backgroundcolor": "rgb(17,17,17)",
            "gridcolor": "#506784",
            "gridwidth": 2,
            "linecolor": "#506784",
            "showbackground": true,
            "ticks": "",
            "zerolinecolor": "#C8D4E3"
           }
          },
          "shapedefaults": {
           "line": {
            "color": "#f2f5fa"
           }
          },
          "sliderdefaults": {
           "bgcolor": "#C8D4E3",
           "bordercolor": "rgb(17,17,17)",
           "borderwidth": 1,
           "tickwidth": 0
          },
          "ternary": {
           "aaxis": {
            "gridcolor": "#506784",
            "linecolor": "#506784",
            "ticks": ""
           },
           "baxis": {
            "gridcolor": "#506784",
            "linecolor": "#506784",
            "ticks": ""
           },
           "bgcolor": "rgb(17,17,17)",
           "caxis": {
            "gridcolor": "#506784",
            "linecolor": "#506784",
            "ticks": ""
           }
          },
          "title": {
           "x": 0.05
          },
          "updatemenudefaults": {
           "bgcolor": "#506784",
           "borderwidth": 0
          },
          "xaxis": {
           "automargin": true,
           "gridcolor": "#283442",
           "linecolor": "#506784",
           "ticks": "",
           "title": {
            "standoff": 15
           },
           "zerolinecolor": "#283442",
           "zerolinewidth": 2
          },
          "yaxis": {
           "automargin": true,
           "gridcolor": "#283442",
           "linecolor": "#506784",
           "ticks": "",
           "title": {
            "standoff": 15
           },
           "zerolinecolor": "#283442",
           "zerolinewidth": 2
          }
         }
        },
        "title": {
         "text": "Performance of candidate"
        },
        "xaxis": {
         "anchor": "y",
         "domain": [
          0,
          1
         ],
         "title": {
          "text": "Date"
         }
        },
        "yaxis": {
         "anchor": "x",
         "domain": [
          0,
          1
         ],
         "title": {
          "text": "Percentile"
         }
        }
       }
      },
      "text/html": [
       "<div>                            <div id=\"db42da01-50d9-4843-99bb-3a71d0913669\" class=\"plotly-graph-div\" style=\"height:525px; width:100%;\"></div>            <script type=\"text/javascript\">                require([\"plotly\"], function(Plotly) {                    window.PLOTLYENV=window.PLOTLYENV || {};                                    if (document.getElementById(\"db42da01-50d9-4843-99bb-3a71d0913669\")) {                    Plotly.newPlot(                        \"db42da01-50d9-4843-99bb-3a71d0913669\",                        [{\"customdata\": [[\"10\", 249.0, 360.0, 223.7, 9.0, \"32\", 66.7, \"2020-07-19T00:00:00\"], [\"10\", 220.0, 360.0, 175.8, 10.0, \"24\", 80.0, \"2020-07-05T00:00:00\"], [\"10\", 212.0, 360.0, 215.5, 4.0, \"34\", 50.0, \"2020-07-26T00:00:00\"], [\"10\", 211.0, 360.0, 199.6, 9.0, \"28\", 66.7, \"2020-07-12T00:00:00\"], [\"10\", 179.0, 360.0, 222.2, 5.0, \"70\", 20.0, \"2020-12-13T00:00:00\"], [\"10\", 142.0, 360.0, 173.5, 2.0, \"61\", 50.0, \"2020-10-18T00:00:00\"], [\"10\", 141.0, 360.0, 207.7, 6.0, \"49\", 16.7, \"2020-09-20T00:00:00\"], [\"10\", 138.0, 360.0, 199.6, 5.0, \"35\", 20.0, \"2020-08-09T00:00:00\"], [\"10\", 113.0, 360.0, 136.7, 9.0, \"20\", 22.2, \"2020-06-28T00:00:00\"], [\"10\", 104.0, 360.0, 197.8, 4.0, \"60\", 25.0, \"2020-10-11T00:00:00\"], [\"10\", 103.0, 360.0, 163.0, 6.0, \"16\", 33.3, \"2020-06-21T00:00:00\"], [\"10\", 89.0, 360.0, 92.0, 4.0, \"55\", 50.0, \"2020-09-27T00:00:00\"], [\"10\", 81.0, 360.0, 121.6, 5.0, \"45\", 40.0, \"2020-09-13T00:00:00\"], [\"10\", 76.0, 360.0, 164.9, 9.0, \"39\", 22.2, \"2020-09-01T00:00:00\"], [\"10\", 68.0, 360.0, 171.9, 7.0, \"37\", 14.3, \"2020-08-23T00:00:00\"], [\"10\", 54.0, 360.0, 155.7, 10.0, \"41\", 10.0, \"2020-09-06T00:00:00\"], [\"10\", 40.0, 360.0, 146.5, 10.0, \"14\", 20.0, \"2020-06-19T00:00:00\"]], \"hovertemplate\": \"<br><b>Your marks</b>: <b>%{customdata[1]}<br><br>Total marks: %{customdata[2]}<br>Average marks: %{customdata[3]}<br>Total candidates: %{customdata[4]}<br>Exam ID: %{customdata[5]}<br>Percentile: %{customdata[6]}<br>Date: %{customdata[7]|%d-%m-%Y}\", \"legendgroup\": \"10\", \"marker\": {\"color\": \"#636efa\", \"size\": [360.0, 360.0, 360.0, 360.0, 360.0, 360.0, 360.0, 360.0, 360.0, 360.0, 360.0, 360.0, 360.0, 360.0, 360.0, 360.0, 360.0], \"sizemode\": \"area\", \"sizeref\": 1.6, \"symbol\": \"circle\"}, \"mode\": \"markers\", \"name\": \"10\", \"orientation\": \"v\", \"showlegend\": true, \"type\": \"scatter\", \"x\": [\"2020-07-19T00:00:00\", \"2020-07-05T00:00:00\", \"2020-07-26T00:00:00\", \"2020-07-12T00:00:00\", \"2020-12-13T00:00:00\", \"2020-10-18T00:00:00\", \"2020-09-20T00:00:00\", \"2020-08-09T00:00:00\", \"2020-06-28T00:00:00\", \"2020-10-11T00:00:00\", \"2020-06-21T00:00:00\", \"2020-09-27T00:00:00\", \"2020-09-13T00:00:00\", \"2020-09-01T00:00:00\", \"2020-08-23T00:00:00\", \"2020-09-06T00:00:00\", \"2020-06-19T00:00:00\"], \"xaxis\": \"x\", \"y\": [66.7, 80.0, 50.0, 66.7, 20.0, 50.0, 16.7, 20.0, 22.2, 25.0, 33.3, 50.0, 40.0, 22.2, 14.3, 10.0, 20.0], \"yaxis\": \"y\"}, {\"hovertemplate\": \"\", \"legendgroup\": \"10\", \"marker\": {\"color\": \"#636efa\", \"symbol\": \"circle\"}, \"mode\": \"lines\", \"name\": \"10\", \"showlegend\": false, \"type\": \"scatter\", \"x\": [\"2020-06-19T00:00:00\", \"2020-06-21T00:00:00\", \"2020-06-28T00:00:00\", \"2020-07-05T00:00:00\", \"2020-07-12T00:00:00\", \"2020-07-19T00:00:00\", \"2020-07-26T00:00:00\", \"2020-08-09T00:00:00\", \"2020-08-23T00:00:00\", \"2020-09-01T00:00:00\", \"2020-09-06T00:00:00\", \"2020-09-13T00:00:00\", \"2020-09-20T00:00:00\", \"2020-09-27T00:00:00\", \"2020-10-11T00:00:00\", \"2020-10-18T00:00:00\", \"2020-12-13T00:00:00\"], \"xaxis\": \"x\", \"y\": [26.53438140090452, 33.511810454045424, 36.394635684113275, 32.6308026759079, 29.220350642823433, 26.013245148718447, 23.039668429202962, 22.654230615407595, 26.253873769257805, 37.929415293552715, 38.260436232895344, 38.56601721830251, 41.50833480337192, 43.58917601941744, 45.49300512486121, 47.110861743739804, 48.158475747410364], \"yaxis\": \"y\"}, {\"customdata\": [[\"9\", 83.0, 180.0, 99.5, 4.0, \"34\", 62.5, \"2020-07-26T00:00:00\"], [\"9\", 83.0, 180.0, 69.8, 5.0, \"24\", 80.0, \"2020-07-05T00:00:00\"], [\"9\", 66.0, 180.0, 106.8, 8.0, \"14\", 18.8, \"2020-06-19T00:00:00\"], [\"9\", 62.0, 180.0, 74.3, 6.0, \"32\", 50.0, \"2020-07-19T00:00:00\"], [\"9\", 55.0, 180.0, 58.0, 7.0, \"28\", 71.4, \"2020-07-12T00:00:00\"], [\"9\", 47.0, 180.0, 66.3, 3.0, \"60\", 66.7, \"2020-10-11T00:00:00\"], [\"9\", 46.0, 180.0, 56.0, 2.0, \"55\", 50.0, \"2020-09-27T00:00:00\"], [\"9\", 46.0, 180.0, 59.8, 5.0, \"49\", 60.0, \"2020-09-20T00:00:00\"], [\"9\", 41.0, 180.0, 72.7, 7.0, \"20\", 42.9, \"2020-06-28T00:00:00\"], [\"9\", 35.0, 180.0, 76.5, 6.0, \"39\", 16.7, \"2020-09-01T00:00:00\"], [\"9\", 35.0, 180.0, 74.7, 6.0, \"16\", 16.7, \"2020-06-21T00:00:00\"], [\"9\", 32.0, 180.0, 57.8, 6.0, \"41\", 16.7, \"2020-09-06T00:00:00\"], [\"9\", 25.0, 180.0, 25.0, 1.0, \"61\", 100.0, \"2020-10-18T00:00:00\"], [\"9\", 17.0, 180.0, 72.0, 6.0, \"37\", 16.7, \"2020-08-23T00:00:00\"], [\"9\", 16.0, 180.0, 55.7, 3.0, \"45\", 33.3, \"2020-09-13T00:00:00\"]], \"hovertemplate\": \"<br><b>Your marks</b>: <b>%{customdata[1]}<br><br>Total marks: %{customdata[2]}<br>Average marks: %{customdata[3]}<br>Total candidates: %{customdata[4]}<br>Exam ID: %{customdata[5]}<br>Percentile: %{customdata[6]}<br>Date: %{customdata[7]|%d-%m-%Y}\", \"legendgroup\": \"9\", \"marker\": {\"color\": \"#EF553B\", \"size\": [180.0, 180.0, 180.0, 180.0, 180.0, 180.0, 180.0, 180.0, 180.0, 180.0, 180.0, 180.0, 180.0, 180.0, 180.0], \"sizemode\": \"area\", \"sizeref\": 1.6, \"symbol\": \"circle\"}, \"mode\": \"markers\", \"name\": \"9\", \"orientation\": \"v\", \"showlegend\": true, \"type\": \"scatter\", \"x\": [\"2020-07-26T00:00:00\", \"2020-07-05T00:00:00\", \"2020-06-19T00:00:00\", \"2020-07-19T00:00:00\", \"2020-07-12T00:00:00\", \"2020-10-11T00:00:00\", \"2020-09-27T00:00:00\", \"2020-09-20T00:00:00\", \"2020-06-28T00:00:00\", \"2020-09-01T00:00:00\", \"2020-06-21T00:00:00\", \"2020-09-06T00:00:00\", \"2020-10-18T00:00:00\", \"2020-08-23T00:00:00\", \"2020-09-13T00:00:00\"], \"xaxis\": \"x\", \"y\": [62.5, 80.0, 18.8, 50.0, 71.4, 66.7, 50.0, 60.0, 42.9, 16.7, 16.7, 16.7, 100.0, 16.7, 33.3], \"yaxis\": \"y\"}, {\"hovertemplate\": \"\", \"legendgroup\": \"9\", \"marker\": {\"color\": \"#EF553B\", \"symbol\": \"circle\"}, \"mode\": \"lines\", \"name\": \"9\", \"showlegend\": false, \"type\": \"scatter\", \"x\": [\"2020-06-19T00:00:00\", \"2020-06-21T00:00:00\", \"2020-06-28T00:00:00\", \"2020-07-05T00:00:00\", \"2020-07-12T00:00:00\", \"2020-07-19T00:00:00\", \"2020-07-26T00:00:00\", \"2020-08-23T00:00:00\", \"2020-09-01T00:00:00\", \"2020-09-06T00:00:00\", \"2020-09-13T00:00:00\", \"2020-09-20T00:00:00\", \"2020-09-27T00:00:00\", \"2020-10-11T00:00:00\", \"2020-10-18T00:00:00\"], \"xaxis\": \"x\", \"y\": [88.84717426766342, 78.21533425568829, 57.12218135372673, 46.754622525986015, 36.87084663157186, 28.02690180249325, 27.819324386540128, 38.14101549411521, 38.56720826419273, 38.968349825699285, 42.65091915987327, 44.24257733497491, 45.268659628306764, 46.00297157312778, 46.24825885220221], \"yaxis\": \"y\"}, {\"customdata\": [[\"7\", 39.0, 180.0, 39.0, 1.0, \"70\", 100.0, \"2020-12-13T00:00:00\"], [\"7\", 38.0, 180.0, 40.2, 4.0, \"24\", 50.0, \"2020-07-05T00:00:00\"], [\"7\", 33.0, 180.0, 38.0, 5.0, \"28\", 80.0, \"2020-07-12T00:00:00\"], [\"7\", 30.0, 180.0, 53.0, 4.0, \"55\", 37.5, \"2020-09-27T00:00:00\"], [\"7\", 27.0, 180.0, 54.9, 7.0, \"32\", 28.6, \"2020-07-19T00:00:00\"], [\"7\", 27.0, 180.0, 66.8, 4.0, \"34\", 25.0, \"2020-07-26T00:00:00\"], [\"7\", 18.0, 180.0, 52.3, 6.0, \"35\", 16.7, \"2020-08-09T00:00:00\"], [\"7\", 13.0, 180.0, 26.0, 2.0, \"61\", 50.0, \"2020-10-18T00:00:00\"], [\"7\", 9.0, 180.0, 67.4, 8.0, \"39\", 12.5, \"2020-09-01T00:00:00\"], [\"7\", 5.0, 180.0, 5.5, 2.0, \"45\", 50.0, \"2020-09-13T00:00:00\"], [\"7\", 5.0, 180.0, -5.8, 4.0, \"49\", 100.0, \"2020-09-20T00:00:00\"], [\"7\", -4.0, 180.0, 70.1, 8.0, \"37\", 12.5, \"2020-08-23T00:00:00\"], [\"7\", -4.0, 180.0, 11.9, 7.0, \"41\", 21.4, \"2020-09-06T00:00:00\"]], \"hovertemplate\": \"<br><b>Your marks</b>: <b>%{customdata[1]}<br><br>Total marks: %{customdata[2]}<br>Average marks: %{customdata[3]}<br>Total candidates: %{customdata[4]}<br>Exam ID: %{customdata[5]}<br>Percentile: %{customdata[6]}<br>Date: %{customdata[7]|%d-%m-%Y}\", \"legendgroup\": \"7\", \"marker\": {\"color\": \"#00cc96\", \"size\": [180.0, 180.0, 180.0, 180.0, 180.0, 180.0, 180.0, 180.0, 180.0, 180.0, 180.0, 180.0, 180.0], \"sizemode\": \"area\", \"sizeref\": 1.6, \"symbol\": \"circle\"}, \"mode\": \"markers\", \"name\": \"7\", \"orientation\": \"v\", \"showlegend\": true, \"type\": \"scatter\", \"x\": [\"2020-12-13T00:00:00\", \"2020-07-05T00:00:00\", \"2020-07-12T00:00:00\", \"2020-09-27T00:00:00\", \"2020-07-19T00:00:00\", \"2020-07-26T00:00:00\", \"2020-08-09T00:00:00\", \"2020-10-18T00:00:00\", \"2020-09-01T00:00:00\", \"2020-09-13T00:00:00\", \"2020-09-20T00:00:00\", \"2020-08-23T00:00:00\", \"2020-09-06T00:00:00\"], \"xaxis\": \"x\", \"y\": [100.0, 50.0, 80.0, 37.5, 28.6, 25.0, 16.7, 50.0, 12.5, 50.0, 100.0, 12.5, 21.4], \"yaxis\": \"y\"}, {\"hovertemplate\": \"\", \"legendgroup\": \"7\", \"marker\": {\"color\": \"#00cc96\", \"symbol\": \"circle\"}, \"mode\": \"lines\", \"name\": \"7\", \"showlegend\": false, \"type\": \"scatter\", \"x\": [\"2020-07-05T00:00:00\", \"2020-07-12T00:00:00\", \"2020-07-19T00:00:00\", \"2020-07-26T00:00:00\", \"2020-08-09T00:00:00\", \"2020-08-23T00:00:00\", \"2020-09-01T00:00:00\", \"2020-09-06T00:00:00\", \"2020-09-13T00:00:00\", \"2020-09-20T00:00:00\", \"2020-09-27T00:00:00\", \"2020-10-18T00:00:00\", \"2020-12-13T00:00:00\"], \"xaxis\": \"x\", \"y\": [98.57293795847379, 53.158388824665685, 38.944078727187446, 34.87991648919928, 30.898670971025048, 26.98894501816938, 19.722526114549094, 17.658194850932617, 25.350908235026548, 25.716649367356503, 31.47764656346913, 37.921180961407345, 44.76743907650459], \"yaxis\": \"y\"}],                        {\"hoverlabel\": {\"align\": \"right\"}, \"legend\": {\"itemsizing\": \"constant\", \"title\": {\"text\": \"sub_id\"}, \"tracegroupgap\": 0}, \"margin\": {\"t\": 60}, \"template\": {\"data\": {\"bar\": [{\"error_x\": {\"color\": \"#f2f5fa\"}, \"error_y\": {\"color\": \"#f2f5fa\"}, \"marker\": {\"line\": {\"color\": \"rgb(17,17,17)\", \"width\": 0.5}}, \"type\": \"bar\"}], \"barpolar\": [{\"marker\": {\"line\": {\"color\": \"rgb(17,17,17)\", \"width\": 0.5}}, \"type\": \"barpolar\"}], \"carpet\": [{\"aaxis\": {\"endlinecolor\": \"#A2B1C6\", \"gridcolor\": \"#506784\", \"linecolor\": \"#506784\", \"minorgridcolor\": \"#506784\", \"startlinecolor\": \"#A2B1C6\"}, \"baxis\": {\"endlinecolor\": \"#A2B1C6\", \"gridcolor\": \"#506784\", \"linecolor\": \"#506784\", \"minorgridcolor\": \"#506784\", \"startlinecolor\": \"#A2B1C6\"}, \"type\": \"carpet\"}], \"choropleth\": [{\"colorbar\": {\"outlinewidth\": 0, \"ticks\": \"\"}, \"type\": \"choropleth\"}], \"contour\": [{\"colorbar\": {\"outlinewidth\": 0, \"ticks\": \"\"}, \"colorscale\": [[0.0, \"#0d0887\"], [0.1111111111111111, \"#46039f\"], [0.2222222222222222, \"#7201a8\"], [0.3333333333333333, \"#9c179e\"], [0.4444444444444444, \"#bd3786\"], [0.5555555555555556, \"#d8576b\"], [0.6666666666666666, \"#ed7953\"], [0.7777777777777778, \"#fb9f3a\"], [0.8888888888888888, \"#fdca26\"], [1.0, \"#f0f921\"]], \"type\": \"contour\"}], \"contourcarpet\": [{\"colorbar\": {\"outlinewidth\": 0, \"ticks\": \"\"}, \"type\": \"contourcarpet\"}], \"heatmap\": [{\"colorbar\": {\"outlinewidth\": 0, \"ticks\": \"\"}, \"colorscale\": [[0.0, \"#0d0887\"], [0.1111111111111111, \"#46039f\"], [0.2222222222222222, \"#7201a8\"], [0.3333333333333333, \"#9c179e\"], [0.4444444444444444, \"#bd3786\"], [0.5555555555555556, \"#d8576b\"], [0.6666666666666666, \"#ed7953\"], [0.7777777777777778, \"#fb9f3a\"], [0.8888888888888888, \"#fdca26\"], [1.0, \"#f0f921\"]], \"type\": \"heatmap\"}], \"heatmapgl\": [{\"colorbar\": {\"outlinewidth\": 0, \"ticks\": \"\"}, \"colorscale\": [[0.0, \"#0d0887\"], [0.1111111111111111, \"#46039f\"], [0.2222222222222222, \"#7201a8\"], [0.3333333333333333, \"#9c179e\"], [0.4444444444444444, \"#bd3786\"], [0.5555555555555556, \"#d8576b\"], [0.6666666666666666, \"#ed7953\"], [0.7777777777777778, \"#fb9f3a\"], [0.8888888888888888, \"#fdca26\"], [1.0, \"#f0f921\"]], \"type\": \"heatmapgl\"}], \"histogram\": [{\"marker\": {\"colorbar\": {\"outlinewidth\": 0, \"ticks\": \"\"}}, \"type\": \"histogram\"}], \"histogram2d\": [{\"colorbar\": {\"outlinewidth\": 0, \"ticks\": \"\"}, \"colorscale\": [[0.0, \"#0d0887\"], [0.1111111111111111, \"#46039f\"], [0.2222222222222222, \"#7201a8\"], [0.3333333333333333, \"#9c179e\"], [0.4444444444444444, \"#bd3786\"], [0.5555555555555556, \"#d8576b\"], [0.6666666666666666, \"#ed7953\"], [0.7777777777777778, \"#fb9f3a\"], [0.8888888888888888, \"#fdca26\"], [1.0, \"#f0f921\"]], \"type\": \"histogram2d\"}], \"histogram2dcontour\": [{\"colorbar\": {\"outlinewidth\": 0, \"ticks\": \"\"}, \"colorscale\": [[0.0, \"#0d0887\"], [0.1111111111111111, \"#46039f\"], [0.2222222222222222, \"#7201a8\"], [0.3333333333333333, \"#9c179e\"], [0.4444444444444444, \"#bd3786\"], [0.5555555555555556, \"#d8576b\"], [0.6666666666666666, \"#ed7953\"], [0.7777777777777778, \"#fb9f3a\"], [0.8888888888888888, \"#fdca26\"], [1.0, \"#f0f921\"]], \"type\": \"histogram2dcontour\"}], \"mesh3d\": [{\"colorbar\": {\"outlinewidth\": 0, \"ticks\": \"\"}, \"type\": \"mesh3d\"}], \"parcoords\": [{\"line\": {\"colorbar\": {\"outlinewidth\": 0, \"ticks\": \"\"}}, \"type\": \"parcoords\"}], \"pie\": [{\"automargin\": true, \"type\": \"pie\"}], \"scatter\": [{\"marker\": {\"line\": {\"color\": \"#283442\"}}, \"type\": \"scatter\"}], \"scatter3d\": [{\"line\": {\"colorbar\": {\"outlinewidth\": 0, \"ticks\": \"\"}}, \"marker\": {\"colorbar\": {\"outlinewidth\": 0, \"ticks\": \"\"}}, \"type\": \"scatter3d\"}], \"scattercarpet\": [{\"marker\": {\"colorbar\": {\"outlinewidth\": 0, \"ticks\": \"\"}}, \"type\": \"scattercarpet\"}], \"scattergeo\": [{\"marker\": {\"colorbar\": {\"outlinewidth\": 0, \"ticks\": \"\"}}, \"type\": \"scattergeo\"}], \"scattergl\": [{\"marker\": {\"line\": {\"color\": \"#283442\"}}, \"type\": \"scattergl\"}], \"scattermapbox\": [{\"marker\": {\"colorbar\": {\"outlinewidth\": 0, \"ticks\": \"\"}}, \"type\": \"scattermapbox\"}], \"scatterpolar\": [{\"marker\": {\"colorbar\": {\"outlinewidth\": 0, \"ticks\": \"\"}}, \"type\": \"scatterpolar\"}], \"scatterpolargl\": [{\"marker\": {\"colorbar\": {\"outlinewidth\": 0, \"ticks\": \"\"}}, \"type\": \"scatterpolargl\"}], \"scatterternary\": [{\"marker\": {\"colorbar\": {\"outlinewidth\": 0, \"ticks\": \"\"}}, \"type\": \"scatterternary\"}], \"surface\": [{\"colorbar\": {\"outlinewidth\": 0, \"ticks\": \"\"}, \"colorscale\": [[0.0, \"#0d0887\"], [0.1111111111111111, \"#46039f\"], [0.2222222222222222, \"#7201a8\"], [0.3333333333333333, \"#9c179e\"], [0.4444444444444444, \"#bd3786\"], [0.5555555555555556, \"#d8576b\"], [0.6666666666666666, \"#ed7953\"], [0.7777777777777778, \"#fb9f3a\"], [0.8888888888888888, \"#fdca26\"], [1.0, \"#f0f921\"]], \"type\": \"surface\"}], \"table\": [{\"cells\": {\"fill\": {\"color\": \"#506784\"}, \"line\": {\"color\": \"rgb(17,17,17)\"}}, \"header\": {\"fill\": {\"color\": \"#2a3f5f\"}, \"line\": {\"color\": \"rgb(17,17,17)\"}}, \"type\": \"table\"}]}, \"layout\": {\"annotationdefaults\": {\"arrowcolor\": \"#f2f5fa\", \"arrowhead\": 0, \"arrowwidth\": 1}, \"autotypenumbers\": \"strict\", \"coloraxis\": {\"colorbar\": {\"outlinewidth\": 0, \"ticks\": \"\"}}, \"colorscale\": {\"diverging\": [[0, \"#8e0152\"], [0.1, \"#c51b7d\"], [0.2, \"#de77ae\"], [0.3, \"#f1b6da\"], [0.4, \"#fde0ef\"], [0.5, \"#f7f7f7\"], [0.6, \"#e6f5d0\"], [0.7, \"#b8e186\"], [0.8, \"#7fbc41\"], [0.9, \"#4d9221\"], [1, \"#276419\"]], \"sequential\": [[0.0, \"#0d0887\"], [0.1111111111111111, \"#46039f\"], [0.2222222222222222, \"#7201a8\"], [0.3333333333333333, \"#9c179e\"], [0.4444444444444444, \"#bd3786\"], [0.5555555555555556, \"#d8576b\"], [0.6666666666666666, \"#ed7953\"], [0.7777777777777778, \"#fb9f3a\"], [0.8888888888888888, \"#fdca26\"], [1.0, \"#f0f921\"]], \"sequentialminus\": [[0.0, \"#0d0887\"], [0.1111111111111111, \"#46039f\"], [0.2222222222222222, \"#7201a8\"], [0.3333333333333333, \"#9c179e\"], [0.4444444444444444, \"#bd3786\"], [0.5555555555555556, \"#d8576b\"], [0.6666666666666666, \"#ed7953\"], [0.7777777777777778, \"#fb9f3a\"], [0.8888888888888888, \"#fdca26\"], [1.0, \"#f0f921\"]]}, \"colorway\": [\"#636efa\", \"#EF553B\", \"#00cc96\", \"#ab63fa\", \"#FFA15A\", \"#19d3f3\", \"#FF6692\", \"#B6E880\", \"#FF97FF\", \"#FECB52\"], \"font\": {\"color\": \"#f2f5fa\"}, \"geo\": {\"bgcolor\": \"rgb(17,17,17)\", \"lakecolor\": \"rgb(17,17,17)\", \"landcolor\": \"rgb(17,17,17)\", \"showlakes\": true, \"showland\": true, \"subunitcolor\": \"#506784\"}, \"hoverlabel\": {\"align\": \"left\"}, \"hovermode\": \"closest\", \"mapbox\": {\"style\": \"dark\"}, \"paper_bgcolor\": \"rgb(17,17,17)\", \"plot_bgcolor\": \"rgb(17,17,17)\", \"polar\": {\"angularaxis\": {\"gridcolor\": \"#506784\", \"linecolor\": \"#506784\", \"ticks\": \"\"}, \"bgcolor\": \"rgb(17,17,17)\", \"radialaxis\": {\"gridcolor\": \"#506784\", \"linecolor\": \"#506784\", \"ticks\": \"\"}}, \"scene\": {\"xaxis\": {\"backgroundcolor\": \"rgb(17,17,17)\", \"gridcolor\": \"#506784\", \"gridwidth\": 2, \"linecolor\": \"#506784\", \"showbackground\": true, \"ticks\": \"\", \"zerolinecolor\": \"#C8D4E3\"}, \"yaxis\": {\"backgroundcolor\": \"rgb(17,17,17)\", \"gridcolor\": \"#506784\", \"gridwidth\": 2, \"linecolor\": \"#506784\", \"showbackground\": true, \"ticks\": \"\", \"zerolinecolor\": \"#C8D4E3\"}, \"zaxis\": {\"backgroundcolor\": \"rgb(17,17,17)\", \"gridcolor\": \"#506784\", \"gridwidth\": 2, \"linecolor\": \"#506784\", \"showbackground\": true, \"ticks\": \"\", \"zerolinecolor\": \"#C8D4E3\"}}, \"shapedefaults\": {\"line\": {\"color\": \"#f2f5fa\"}}, \"sliderdefaults\": {\"bgcolor\": \"#C8D4E3\", \"bordercolor\": \"rgb(17,17,17)\", \"borderwidth\": 1, \"tickwidth\": 0}, \"ternary\": {\"aaxis\": {\"gridcolor\": \"#506784\", \"linecolor\": \"#506784\", \"ticks\": \"\"}, \"baxis\": {\"gridcolor\": \"#506784\", \"linecolor\": \"#506784\", \"ticks\": \"\"}, \"bgcolor\": \"rgb(17,17,17)\", \"caxis\": {\"gridcolor\": \"#506784\", \"linecolor\": \"#506784\", \"ticks\": \"\"}}, \"title\": {\"x\": 0.05}, \"updatemenudefaults\": {\"bgcolor\": \"#506784\", \"borderwidth\": 0}, \"xaxis\": {\"automargin\": true, \"gridcolor\": \"#283442\", \"linecolor\": \"#506784\", \"ticks\": \"\", \"title\": {\"standoff\": 15}, \"zerolinecolor\": \"#283442\", \"zerolinewidth\": 2}, \"yaxis\": {\"automargin\": true, \"gridcolor\": \"#283442\", \"linecolor\": \"#506784\", \"ticks\": \"\", \"title\": {\"standoff\": 15}, \"zerolinecolor\": \"#283442\", \"zerolinewidth\": 2}}}, \"title\": {\"text\": \"Performance of candidate\"}, \"xaxis\": {\"anchor\": \"y\", \"domain\": [0.0, 1.0], \"title\": {\"text\": \"Date\"}}, \"yaxis\": {\"anchor\": \"x\", \"domain\": [0.0, 1.0], \"title\": {\"text\": \"Percentile\"}}},                        {\"responsive\": true}                    ).then(function(){\n",
       "                            \n",
       "var gd = document.getElementById('db42da01-50d9-4843-99bb-3a71d0913669');\n",
       "var x = new MutationObserver(function (mutations, observer) {{\n",
       "        var display = window.getComputedStyle(gd).display;\n",
       "        if (!display || display === 'none') {{\n",
       "            console.log([gd, 'removed!']);\n",
       "            Plotly.purge(gd);\n",
       "            observer.disconnect();\n",
       "        }}\n",
       "}});\n",
       "\n",
       "// Listen for the removal of the full notebook cells\n",
       "var notebookContainer = gd.closest('#notebook-container');\n",
       "if (notebookContainer) {{\n",
       "    x.observe(notebookContainer, {childList: true});\n",
       "}}\n",
       "\n",
       "// Listen for the clearing of the current output cell\n",
       "var outputEl = gd.closest('.output');\n",
       "if (outputEl) {{\n",
       "    x.observe(outputEl, {childList: true});\n",
       "}}\n",
       "\n",
       "                        })                };                });            </script>        </div>"
      ]
     },
     "metadata": {},
     "output_type": "display_data"
    }
   ],
   "source": [
    "fig = px.scatter(df_o.query(\"reg_no == 'ACAD-203018'\"), x=\"date\", y=\"percentile\",\n",
    "                  color = 'sub_id', size = 'total_marks', template = 'plotly_dark', \n",
    "                 custom_data = ['sub_id', 'scored_marks','total_marks', 'avg_marks', 'total_candidates', 'exam_id', 'percentile',\n",
    "                               'date'],trendline = 'lowess', size_max = 15)\n",
    "\n",
    "fig.data[1]['hovertemplate'] = \"<br>\".join([\"\"])\n",
    "fig.data[3]['hovertemplate'] = \"<br>\".join([\"\"])\n",
    "fig.data[5]['hovertemplate'] = \"<br>\".join([\"\"])\n",
    "\n",
    "fig.update_traces( hovertemplate = \"<br>\".join([\n",
    "                                  '<br><b>Your marks</b>: <b>%{customdata[1]}<br>',\n",
    "                                  'Total marks: %{customdata[2]}',\n",
    "                                  'Average marks: %{customdata[3]}',\n",
    "                                  'Total candidates: %{customdata[4]}',\n",
    "                                  'Exam ID: %{customdata[5]}',\n",
    "                                  'Percentile: %{customdata[6]}',\n",
    "                                  'Date: %{customdata[7]|%d-%m-%Y}',\n",
    "                                  ]),\n",
    "                 selector = dict(mode = \"markers\"))\n",
    "\n",
    "fig.update_layout(\n",
    "    hoverlabel_align = 'right',\n",
    "    xaxis_title = \"Date\",\n",
    "    yaxis_title = \"Percentile\",\n",
    "    title = \"Performance of candidate\"\n",
    "   )\n",
    "\n",
    "\n",
    "fig.write_html(\"fig_ACAD_203018.html\")\n",
    "fig.show()\n",
    "\n"
   ]
  },
  {
   "cell_type": "code",
   "execution_count": 37,
   "metadata": {},
   "outputs": [
    {
     "data": {
      "text/html": [
       "<div>\n",
       "<style scoped>\n",
       "    .dataframe tbody tr th:only-of-type {\n",
       "        vertical-align: middle;\n",
       "    }\n",
       "\n",
       "    .dataframe tbody tr th {\n",
       "        vertical-align: top;\n",
       "    }\n",
       "\n",
       "    .dataframe thead th {\n",
       "        text-align: right;\n",
       "    }\n",
       "</style>\n",
       "<table border=\"1\" class=\"dataframe\">\n",
       "  <thead>\n",
       "    <tr style=\"text-align: right;\">\n",
       "      <th></th>\n",
       "      <th>id</th>\n",
       "      <th>reg_no</th>\n",
       "      <th>exam_id</th>\n",
       "      <th>sub_id</th>\n",
       "      <th>attempt_count</th>\n",
       "      <th>scored_marks</th>\n",
       "      <th>total_marks</th>\n",
       "      <th>total_time</th>\n",
       "      <th>created_at</th>\n",
       "      <th>updated_at</th>\n",
       "      <th>date</th>\n",
       "      <th>avg_marks</th>\n",
       "      <th>percentile</th>\n",
       "      <th>percentage</th>\n",
       "      <th>total_candidates</th>\n",
       "    </tr>\n",
       "  </thead>\n",
       "  <tbody>\n",
       "    <tr>\n",
       "      <th>2774</th>\n",
       "      <td>2778</td>\n",
       "      <td>ACAD-202009</td>\n",
       "      <td>69</td>\n",
       "      <td>1</td>\n",
       "      <td>1615</td>\n",
       "      <td>87.0</td>\n",
       "      <td>100.0</td>\n",
       "      <td>54.0</td>\n",
       "      <td>2020-12-13 12:53:26</td>\n",
       "      <td>2020-12-13 12:53:26</td>\n",
       "      <td>2020-12-13</td>\n",
       "      <td>75.0</td>\n",
       "      <td>83.3</td>\n",
       "      <td>87.0</td>\n",
       "      <td>6.0</td>\n",
       "    </tr>\n",
       "    <tr>\n",
       "      <th>1579</th>\n",
       "      <td>1583</td>\n",
       "      <td>ACAD-202009</td>\n",
       "      <td>33</td>\n",
       "      <td>1</td>\n",
       "      <td>943</td>\n",
       "      <td>87.0</td>\n",
       "      <td>100.0</td>\n",
       "      <td>45.4</td>\n",
       "      <td>2020-07-26 22:26:33</td>\n",
       "      <td>2020-07-26 22:26:33</td>\n",
       "      <td>2020-07-26</td>\n",
       "      <td>68.4</td>\n",
       "      <td>93.8</td>\n",
       "      <td>87.0</td>\n",
       "      <td>16.0</td>\n",
       "    </tr>\n",
       "    <tr>\n",
       "      <th>1675</th>\n",
       "      <td>1679</td>\n",
       "      <td>ACAD-202009</td>\n",
       "      <td>36</td>\n",
       "      <td>1</td>\n",
       "      <td>992</td>\n",
       "      <td>82.0</td>\n",
       "      <td>100.0</td>\n",
       "      <td>43.0</td>\n",
       "      <td>2020-08-09 16:40:45</td>\n",
       "      <td>2020-08-09 16:40:45</td>\n",
       "      <td>2020-08-09</td>\n",
       "      <td>69.3</td>\n",
       "      <td>72.2</td>\n",
       "      <td>82.0</td>\n",
       "      <td>18.0</td>\n",
       "    </tr>\n",
       "    <tr>\n",
       "      <th>1768</th>\n",
       "      <td>1772</td>\n",
       "      <td>ACAD-202009</td>\n",
       "      <td>38</td>\n",
       "      <td>1</td>\n",
       "      <td>1041</td>\n",
       "      <td>77.0</td>\n",
       "      <td>100.0</td>\n",
       "      <td>52.2</td>\n",
       "      <td>2020-08-23 16:34:38</td>\n",
       "      <td>2020-08-23 16:34:38</td>\n",
       "      <td>2020-08-23</td>\n",
       "      <td>66.8</td>\n",
       "      <td>56.2</td>\n",
       "      <td>77.0</td>\n",
       "      <td>16.0</td>\n",
       "    </tr>\n",
       "    <tr>\n",
       "      <th>1882</th>\n",
       "      <td>1886</td>\n",
       "      <td>ACAD-202009</td>\n",
       "      <td>40</td>\n",
       "      <td>1</td>\n",
       "      <td>1095</td>\n",
       "      <td>75.0</td>\n",
       "      <td>100.0</td>\n",
       "      <td>41.4</td>\n",
       "      <td>2020-09-01 16:39:54</td>\n",
       "      <td>2020-09-01 16:39:54</td>\n",
       "      <td>2020-09-01</td>\n",
       "      <td>54.4</td>\n",
       "      <td>92.9</td>\n",
       "      <td>75.0</td>\n",
       "      <td>14.0</td>\n",
       "    </tr>\n",
       "    <tr>\n",
       "      <th>2561</th>\n",
       "      <td>2565</td>\n",
       "      <td>ACAD-202009</td>\n",
       "      <td>59</td>\n",
       "      <td>1</td>\n",
       "      <td>1485</td>\n",
       "      <td>61.0</td>\n",
       "      <td>100.0</td>\n",
       "      <td>44.4</td>\n",
       "      <td>2020-10-11 17:02:14</td>\n",
       "      <td>2020-10-11 17:02:14</td>\n",
       "      <td>2020-10-11</td>\n",
       "      <td>49.5</td>\n",
       "      <td>90.0</td>\n",
       "      <td>61.0</td>\n",
       "      <td>10.0</td>\n",
       "    </tr>\n",
       "    <tr>\n",
       "      <th>870</th>\n",
       "      <td>871</td>\n",
       "      <td>ACAD-202009</td>\n",
       "      <td>15</td>\n",
       "      <td>1</td>\n",
       "      <td>591</td>\n",
       "      <td>60.0</td>\n",
       "      <td>100.0</td>\n",
       "      <td>37.4</td>\n",
       "      <td>2020-06-21 22:30:19</td>\n",
       "      <td>2020-06-21 22:30:19</td>\n",
       "      <td>2020-06-21</td>\n",
       "      <td>47.0</td>\n",
       "      <td>81.0</td>\n",
       "      <td>60.0</td>\n",
       "      <td>21.0</td>\n",
       "    </tr>\n",
       "    <tr>\n",
       "      <th>2146</th>\n",
       "      <td>2150</td>\n",
       "      <td>ACAD-202009</td>\n",
       "      <td>46</td>\n",
       "      <td>1</td>\n",
       "      <td>1267</td>\n",
       "      <td>44.0</td>\n",
       "      <td>100.0</td>\n",
       "      <td>36.3</td>\n",
       "      <td>2020-09-13 16:50:31</td>\n",
       "      <td>2020-09-13 16:50:31</td>\n",
       "      <td>2020-09-13</td>\n",
       "      <td>50.6</td>\n",
       "      <td>39.5</td>\n",
       "      <td>44.0</td>\n",
       "      <td>19.0</td>\n",
       "    </tr>\n",
       "    <tr>\n",
       "      <th>2618</th>\n",
       "      <td>2622</td>\n",
       "      <td>ACAD-202009</td>\n",
       "      <td>62</td>\n",
       "      <td>1</td>\n",
       "      <td>1517</td>\n",
       "      <td>40.0</td>\n",
       "      <td>100.0</td>\n",
       "      <td>53.7</td>\n",
       "      <td>2020-10-18 16:59:09</td>\n",
       "      <td>2020-10-18 16:59:09</td>\n",
       "      <td>2020-10-18</td>\n",
       "      <td>31.0</td>\n",
       "      <td>70.0</td>\n",
       "      <td>40.0</td>\n",
       "      <td>10.0</td>\n",
       "    </tr>\n",
       "    <tr>\n",
       "      <th>1483</th>\n",
       "      <td>1487</td>\n",
       "      <td>ACAD-202009</td>\n",
       "      <td>31</td>\n",
       "      <td>1</td>\n",
       "      <td>890</td>\n",
       "      <td>39.0</td>\n",
       "      <td>100.0</td>\n",
       "      <td>42.8</td>\n",
       "      <td>2020-07-19 22:30:18</td>\n",
       "      <td>2020-07-19 22:30:18</td>\n",
       "      <td>2020-07-19</td>\n",
       "      <td>29.2</td>\n",
       "      <td>64.7</td>\n",
       "      <td>39.0</td>\n",
       "      <td>17.0</td>\n",
       "    </tr>\n",
       "    <tr>\n",
       "      <th>2279</th>\n",
       "      <td>2283</td>\n",
       "      <td>ACAD-202009</td>\n",
       "      <td>50</td>\n",
       "      <td>1</td>\n",
       "      <td>1327</td>\n",
       "      <td>38.0</td>\n",
       "      <td>100.0</td>\n",
       "      <td>49.6</td>\n",
       "      <td>2020-09-20 16:41:28</td>\n",
       "      <td>2020-09-20 16:41:28</td>\n",
       "      <td>2020-09-20</td>\n",
       "      <td>42.3</td>\n",
       "      <td>28.6</td>\n",
       "      <td>38.0</td>\n",
       "      <td>7.0</td>\n",
       "    </tr>\n",
       "    <tr>\n",
       "      <th>2020</th>\n",
       "      <td>2024</td>\n",
       "      <td>ACAD-202009</td>\n",
       "      <td>42</td>\n",
       "      <td>1</td>\n",
       "      <td>1169</td>\n",
       "      <td>38.0</td>\n",
       "      <td>100.0</td>\n",
       "      <td>50.7</td>\n",
       "      <td>2020-09-06 16:57:18</td>\n",
       "      <td>2020-09-06 16:57:18</td>\n",
       "      <td>2020-09-06</td>\n",
       "      <td>45.6</td>\n",
       "      <td>35.7</td>\n",
       "      <td>38.0</td>\n",
       "      <td>14.0</td>\n",
       "    </tr>\n",
       "    <tr>\n",
       "      <th>2432</th>\n",
       "      <td>2436</td>\n",
       "      <td>ACAD-202009</td>\n",
       "      <td>56</td>\n",
       "      <td>1</td>\n",
       "      <td>1413</td>\n",
       "      <td>37.0</td>\n",
       "      <td>100.0</td>\n",
       "      <td>40.4</td>\n",
       "      <td>2020-09-27 17:39:53</td>\n",
       "      <td>2020-09-27 17:39:53</td>\n",
       "      <td>2020-09-27</td>\n",
       "      <td>39.2</td>\n",
       "      <td>59.1</td>\n",
       "      <td>37.0</td>\n",
       "      <td>11.0</td>\n",
       "    </tr>\n",
       "  </tbody>\n",
       "</table>\n",
       "</div>"
      ],
      "text/plain": [
       "        id       reg_no exam_id sub_id attempt_count  scored_marks  \\\n",
       "2774  2778  ACAD-202009      69      1          1615          87.0   \n",
       "1579  1583  ACAD-202009      33      1           943          87.0   \n",
       "1675  1679  ACAD-202009      36      1           992          82.0   \n",
       "1768  1772  ACAD-202009      38      1          1041          77.0   \n",
       "1882  1886  ACAD-202009      40      1          1095          75.0   \n",
       "2561  2565  ACAD-202009      59      1          1485          61.0   \n",
       "870    871  ACAD-202009      15      1           591          60.0   \n",
       "2146  2150  ACAD-202009      46      1          1267          44.0   \n",
       "2618  2622  ACAD-202009      62      1          1517          40.0   \n",
       "1483  1487  ACAD-202009      31      1           890          39.0   \n",
       "2279  2283  ACAD-202009      50      1          1327          38.0   \n",
       "2020  2024  ACAD-202009      42      1          1169          38.0   \n",
       "2432  2436  ACAD-202009      56      1          1413          37.0   \n",
       "\n",
       "      total_marks  total_time          created_at          updated_at  \\\n",
       "2774        100.0        54.0 2020-12-13 12:53:26 2020-12-13 12:53:26   \n",
       "1579        100.0        45.4 2020-07-26 22:26:33 2020-07-26 22:26:33   \n",
       "1675        100.0        43.0 2020-08-09 16:40:45 2020-08-09 16:40:45   \n",
       "1768        100.0        52.2 2020-08-23 16:34:38 2020-08-23 16:34:38   \n",
       "1882        100.0        41.4 2020-09-01 16:39:54 2020-09-01 16:39:54   \n",
       "2561        100.0        44.4 2020-10-11 17:02:14 2020-10-11 17:02:14   \n",
       "870         100.0        37.4 2020-06-21 22:30:19 2020-06-21 22:30:19   \n",
       "2146        100.0        36.3 2020-09-13 16:50:31 2020-09-13 16:50:31   \n",
       "2618        100.0        53.7 2020-10-18 16:59:09 2020-10-18 16:59:09   \n",
       "1483        100.0        42.8 2020-07-19 22:30:18 2020-07-19 22:30:18   \n",
       "2279        100.0        49.6 2020-09-20 16:41:28 2020-09-20 16:41:28   \n",
       "2020        100.0        50.7 2020-09-06 16:57:18 2020-09-06 16:57:18   \n",
       "2432        100.0        40.4 2020-09-27 17:39:53 2020-09-27 17:39:53   \n",
       "\n",
       "           date  avg_marks  percentile  percentage  total_candidates  \n",
       "2774 2020-12-13       75.0        83.3        87.0               6.0  \n",
       "1579 2020-07-26       68.4        93.8        87.0              16.0  \n",
       "1675 2020-08-09       69.3        72.2        82.0              18.0  \n",
       "1768 2020-08-23       66.8        56.2        77.0              16.0  \n",
       "1882 2020-09-01       54.4        92.9        75.0              14.0  \n",
       "2561 2020-10-11       49.5        90.0        61.0              10.0  \n",
       "870  2020-06-21       47.0        81.0        60.0              21.0  \n",
       "2146 2020-09-13       50.6        39.5        44.0              19.0  \n",
       "2618 2020-10-18       31.0        70.0        40.0              10.0  \n",
       "1483 2020-07-19       29.2        64.7        39.0              17.0  \n",
       "2279 2020-09-20       42.3        28.6        38.0               7.0  \n",
       "2020 2020-09-06       45.6        35.7        38.0              14.0  \n",
       "2432 2020-09-27       39.2        59.1        37.0              11.0  "
      ]
     },
     "execution_count": 37,
     "metadata": {},
     "output_type": "execute_result"
    }
   ],
   "source": [
    "idx  = np.where((df_o['reg_no'] == 'ACAD-202009') & (df_o['sub_id'] == '1'))\n",
    "df_ll = df_o.iloc[idx]\n",
    "df_ll"
   ]
  },
  {
   "cell_type": "code",
   "execution_count": 38,
   "metadata": {},
   "outputs": [
    {
     "data": {
      "text/html": [
       "<div>\n",
       "<style scoped>\n",
       "    .dataframe tbody tr th:only-of-type {\n",
       "        vertical-align: middle;\n",
       "    }\n",
       "\n",
       "    .dataframe tbody tr th {\n",
       "        vertical-align: top;\n",
       "    }\n",
       "\n",
       "    .dataframe thead th {\n",
       "        text-align: right;\n",
       "    }\n",
       "</style>\n",
       "<table border=\"1\" class=\"dataframe\">\n",
       "  <thead>\n",
       "    <tr style=\"text-align: right;\">\n",
       "      <th></th>\n",
       "      <th>id</th>\n",
       "      <th>reg_no</th>\n",
       "      <th>exam_id</th>\n",
       "      <th>sub_id</th>\n",
       "      <th>attempt_count</th>\n",
       "      <th>scored_marks</th>\n",
       "      <th>total_marks</th>\n",
       "      <th>total_time</th>\n",
       "      <th>created_at</th>\n",
       "      <th>updated_at</th>\n",
       "      <th>date</th>\n",
       "      <th>avg_marks</th>\n",
       "      <th>percentile</th>\n",
       "      <th>percentage</th>\n",
       "      <th>total_candidates</th>\n",
       "    </tr>\n",
       "  </thead>\n",
       "  <tbody>\n",
       "    <tr>\n",
       "      <th>2775</th>\n",
       "      <td>2779</td>\n",
       "      <td>ACAD-202009</td>\n",
       "      <td>69</td>\n",
       "      <td>2</td>\n",
       "      <td>1615</td>\n",
       "      <td>67.0</td>\n",
       "      <td>100.0</td>\n",
       "      <td>71.4</td>\n",
       "      <td>2020-12-13 12:53:27</td>\n",
       "      <td>2020-12-13 12:53:27</td>\n",
       "      <td>2020-12-13</td>\n",
       "      <td>44.0</td>\n",
       "      <td>93.8</td>\n",
       "      <td>67.0</td>\n",
       "      <td>8.0</td>\n",
       "    </tr>\n",
       "    <tr>\n",
       "      <th>2838</th>\n",
       "      <td>2842</td>\n",
       "      <td>ACAD-202001</td>\n",
       "      <td>69</td>\n",
       "      <td>2</td>\n",
       "      <td>1673</td>\n",
       "      <td>67.0</td>\n",
       "      <td>100.0</td>\n",
       "      <td>43.4</td>\n",
       "      <td>2020-12-13 19:03:20</td>\n",
       "      <td>2020-12-13 19:03:20</td>\n",
       "      <td>2020-12-13</td>\n",
       "      <td>44.0</td>\n",
       "      <td>93.8</td>\n",
       "      <td>67.0</td>\n",
       "      <td>8.0</td>\n",
       "    </tr>\n",
       "    <tr>\n",
       "      <th>2778</th>\n",
       "      <td>2782</td>\n",
       "      <td>ACAD-202007</td>\n",
       "      <td>69</td>\n",
       "      <td>2</td>\n",
       "      <td>1608</td>\n",
       "      <td>60.0</td>\n",
       "      <td>100.0</td>\n",
       "      <td>83.8</td>\n",
       "      <td>2020-12-13 12:53:35</td>\n",
       "      <td>2020-12-13 12:53:35</td>\n",
       "      <td>2020-12-13</td>\n",
       "      <td>44.0</td>\n",
       "      <td>75.0</td>\n",
       "      <td>60.0</td>\n",
       "      <td>8.0</td>\n",
       "    </tr>\n",
       "    <tr>\n",
       "      <th>2787</th>\n",
       "      <td>2791</td>\n",
       "      <td>ACAD-202008</td>\n",
       "      <td>69</td>\n",
       "      <td>2</td>\n",
       "      <td>1607</td>\n",
       "      <td>43.0</td>\n",
       "      <td>100.0</td>\n",
       "      <td>73.0</td>\n",
       "      <td>2020-12-13 12:58:32</td>\n",
       "      <td>2020-12-13 12:58:32</td>\n",
       "      <td>2020-12-13</td>\n",
       "      <td>44.0</td>\n",
       "      <td>62.5</td>\n",
       "      <td>43.0</td>\n",
       "      <td>8.0</td>\n",
       "    </tr>\n",
       "    <tr>\n",
       "      <th>2781</th>\n",
       "      <td>2785</td>\n",
       "      <td>ACAD-202004</td>\n",
       "      <td>69</td>\n",
       "      <td>2</td>\n",
       "      <td>1609</td>\n",
       "      <td>35.0</td>\n",
       "      <td>100.0</td>\n",
       "      <td>85.6</td>\n",
       "      <td>2020-12-13 12:57:25</td>\n",
       "      <td>2020-12-13 12:57:25</td>\n",
       "      <td>2020-12-13</td>\n",
       "      <td>44.0</td>\n",
       "      <td>50.0</td>\n",
       "      <td>35.0</td>\n",
       "      <td>8.0</td>\n",
       "    </tr>\n",
       "    <tr>\n",
       "      <th>2790</th>\n",
       "      <td>2794</td>\n",
       "      <td>ACAD-202016</td>\n",
       "      <td>69</td>\n",
       "      <td>2</td>\n",
       "      <td>1619</td>\n",
       "      <td>32.0</td>\n",
       "      <td>100.0</td>\n",
       "      <td>60.7</td>\n",
       "      <td>2020-12-13 13:06:52</td>\n",
       "      <td>2020-12-13 13:06:52</td>\n",
       "      <td>2020-12-13</td>\n",
       "      <td>44.0</td>\n",
       "      <td>37.5</td>\n",
       "      <td>32.0</td>\n",
       "      <td>8.0</td>\n",
       "    </tr>\n",
       "    <tr>\n",
       "      <th>2769</th>\n",
       "      <td>2773</td>\n",
       "      <td>ACAD-202015</td>\n",
       "      <td>69</td>\n",
       "      <td>2</td>\n",
       "      <td>1613</td>\n",
       "      <td>25.0</td>\n",
       "      <td>100.0</td>\n",
       "      <td>85.7</td>\n",
       "      <td>2020-12-13 12:42:55</td>\n",
       "      <td>2020-12-13 12:42:55</td>\n",
       "      <td>2020-12-13</td>\n",
       "      <td>44.0</td>\n",
       "      <td>25.0</td>\n",
       "      <td>25.0</td>\n",
       "      <td>8.0</td>\n",
       "    </tr>\n",
       "    <tr>\n",
       "      <th>2763</th>\n",
       "      <td>2767</td>\n",
       "      <td>ACAD-202018</td>\n",
       "      <td>69</td>\n",
       "      <td>2</td>\n",
       "      <td>1616</td>\n",
       "      <td>23.0</td>\n",
       "      <td>100.0</td>\n",
       "      <td>91.4</td>\n",
       "      <td>2020-12-13 12:34:58</td>\n",
       "      <td>2020-12-13 12:34:58</td>\n",
       "      <td>2020-12-13</td>\n",
       "      <td>44.0</td>\n",
       "      <td>12.5</td>\n",
       "      <td>23.0</td>\n",
       "      <td>8.0</td>\n",
       "    </tr>\n",
       "  </tbody>\n",
       "</table>\n",
       "</div>"
      ],
      "text/plain": [
       "        id       reg_no exam_id sub_id attempt_count  scored_marks  \\\n",
       "2775  2779  ACAD-202009      69      2          1615          67.0   \n",
       "2838  2842  ACAD-202001      69      2          1673          67.0   \n",
       "2778  2782  ACAD-202007      69      2          1608          60.0   \n",
       "2787  2791  ACAD-202008      69      2          1607          43.0   \n",
       "2781  2785  ACAD-202004      69      2          1609          35.0   \n",
       "2790  2794  ACAD-202016      69      2          1619          32.0   \n",
       "2769  2773  ACAD-202015      69      2          1613          25.0   \n",
       "2763  2767  ACAD-202018      69      2          1616          23.0   \n",
       "\n",
       "      total_marks  total_time          created_at          updated_at  \\\n",
       "2775        100.0        71.4 2020-12-13 12:53:27 2020-12-13 12:53:27   \n",
       "2838        100.0        43.4 2020-12-13 19:03:20 2020-12-13 19:03:20   \n",
       "2778        100.0        83.8 2020-12-13 12:53:35 2020-12-13 12:53:35   \n",
       "2787        100.0        73.0 2020-12-13 12:58:32 2020-12-13 12:58:32   \n",
       "2781        100.0        85.6 2020-12-13 12:57:25 2020-12-13 12:57:25   \n",
       "2790        100.0        60.7 2020-12-13 13:06:52 2020-12-13 13:06:52   \n",
       "2769        100.0        85.7 2020-12-13 12:42:55 2020-12-13 12:42:55   \n",
       "2763        100.0        91.4 2020-12-13 12:34:58 2020-12-13 12:34:58   \n",
       "\n",
       "           date  avg_marks  percentile  percentage  total_candidates  \n",
       "2775 2020-12-13       44.0        93.8        67.0               8.0  \n",
       "2838 2020-12-13       44.0        93.8        67.0               8.0  \n",
       "2778 2020-12-13       44.0        75.0        60.0               8.0  \n",
       "2787 2020-12-13       44.0        62.5        43.0               8.0  \n",
       "2781 2020-12-13       44.0        50.0        35.0               8.0  \n",
       "2790 2020-12-13       44.0        37.5        32.0               8.0  \n",
       "2769 2020-12-13       44.0        25.0        25.0               8.0  \n",
       "2763 2020-12-13       44.0        12.5        23.0               8.0  "
      ]
     },
     "execution_count": 38,
     "metadata": {},
     "output_type": "execute_result"
    }
   ],
   "source": [
    "idx  = np.where((df_o['sub_id'] == '2') & (df_o['exam_id'] == '69'))\n",
    "df_2 = df_o.iloc[idx]\n",
    "df_2"
   ]
  },
  {
   "cell_type": "code",
   "execution_count": 39,
   "metadata": {
    "scrolled": false
   },
   "outputs": [
    {
     "data": {
      "application/vnd.plotly.v1+json": {
       "config": {
        "plotlyServerURL": "https://plot.ly"
       },
       "data": [
        {
         "hoverinfo": [
          "all"
         ],
         "marker": {
          "color": "rgb(55, 83, 109)"
         },
         "name": "ACAD-202012",
         "type": "bar",
         "x": [
          "23",
          "27",
          "31",
          "33",
          "36",
          "38",
          "40",
          "62",
          "69"
         ],
         "y": [
          79,
          78,
          67,
          66,
          63,
          40,
          35,
          29,
          -2
         ]
        },
        {
         "hoverinfo": [
          "all"
         ],
         "marker": {
          "color": "rgb(26, 118, 255)"
         },
         "name": "Topper",
         "type": "bar",
         "x": [
          "23",
          "27",
          "31",
          "33",
          "36",
          "38",
          "40",
          "62",
          "69"
         ],
         "y": [
          100,
          96,
          96,
          95,
          95,
          95,
          95,
          91,
          90,
          87,
          85,
          83,
          83,
          81,
          81,
          81,
          80,
          78,
          78,
          76,
          75,
          65,
          64,
          61,
          57,
          56,
          51,
          51,
          30,
          26,
          19,
          10
         ]
        }
       ],
       "layout": {
        "bargap": 0.15,
        "bargroupgap": 0.1,
        "barmode": "group",
        "height": 600,
        "legend": {
         "bgcolor": "rgba(255, 255, 255, 0)",
         "bordercolor": "rgba(255, 255, 255, 0)",
         "orientation": "h",
         "x": 0,
         "y": 1
        },
        "template": {
         "data": {
          "bar": [
           {
            "error_x": {
             "color": "#2a3f5f"
            },
            "error_y": {
             "color": "#2a3f5f"
            },
            "marker": {
             "line": {
              "color": "#E5ECF6",
              "width": 0.5
             }
            },
            "type": "bar"
           }
          ],
          "barpolar": [
           {
            "marker": {
             "line": {
              "color": "#E5ECF6",
              "width": 0.5
             }
            },
            "type": "barpolar"
           }
          ],
          "carpet": [
           {
            "aaxis": {
             "endlinecolor": "#2a3f5f",
             "gridcolor": "white",
             "linecolor": "white",
             "minorgridcolor": "white",
             "startlinecolor": "#2a3f5f"
            },
            "baxis": {
             "endlinecolor": "#2a3f5f",
             "gridcolor": "white",
             "linecolor": "white",
             "minorgridcolor": "white",
             "startlinecolor": "#2a3f5f"
            },
            "type": "carpet"
           }
          ],
          "choropleth": [
           {
            "colorbar": {
             "outlinewidth": 0,
             "ticks": ""
            },
            "type": "choropleth"
           }
          ],
          "contour": [
           {
            "colorbar": {
             "outlinewidth": 0,
             "ticks": ""
            },
            "colorscale": [
             [
              0,
              "#0d0887"
             ],
             [
              0.1111111111111111,
              "#46039f"
             ],
             [
              0.2222222222222222,
              "#7201a8"
             ],
             [
              0.3333333333333333,
              "#9c179e"
             ],
             [
              0.4444444444444444,
              "#bd3786"
             ],
             [
              0.5555555555555556,
              "#d8576b"
             ],
             [
              0.6666666666666666,
              "#ed7953"
             ],
             [
              0.7777777777777778,
              "#fb9f3a"
             ],
             [
              0.8888888888888888,
              "#fdca26"
             ],
             [
              1,
              "#f0f921"
             ]
            ],
            "type": "contour"
           }
          ],
          "contourcarpet": [
           {
            "colorbar": {
             "outlinewidth": 0,
             "ticks": ""
            },
            "type": "contourcarpet"
           }
          ],
          "heatmap": [
           {
            "colorbar": {
             "outlinewidth": 0,
             "ticks": ""
            },
            "colorscale": [
             [
              0,
              "#0d0887"
             ],
             [
              0.1111111111111111,
              "#46039f"
             ],
             [
              0.2222222222222222,
              "#7201a8"
             ],
             [
              0.3333333333333333,
              "#9c179e"
             ],
             [
              0.4444444444444444,
              "#bd3786"
             ],
             [
              0.5555555555555556,
              "#d8576b"
             ],
             [
              0.6666666666666666,
              "#ed7953"
             ],
             [
              0.7777777777777778,
              "#fb9f3a"
             ],
             [
              0.8888888888888888,
              "#fdca26"
             ],
             [
              1,
              "#f0f921"
             ]
            ],
            "type": "heatmap"
           }
          ],
          "heatmapgl": [
           {
            "colorbar": {
             "outlinewidth": 0,
             "ticks": ""
            },
            "colorscale": [
             [
              0,
              "#0d0887"
             ],
             [
              0.1111111111111111,
              "#46039f"
             ],
             [
              0.2222222222222222,
              "#7201a8"
             ],
             [
              0.3333333333333333,
              "#9c179e"
             ],
             [
              0.4444444444444444,
              "#bd3786"
             ],
             [
              0.5555555555555556,
              "#d8576b"
             ],
             [
              0.6666666666666666,
              "#ed7953"
             ],
             [
              0.7777777777777778,
              "#fb9f3a"
             ],
             [
              0.8888888888888888,
              "#fdca26"
             ],
             [
              1,
              "#f0f921"
             ]
            ],
            "type": "heatmapgl"
           }
          ],
          "histogram": [
           {
            "marker": {
             "colorbar": {
              "outlinewidth": 0,
              "ticks": ""
             }
            },
            "type": "histogram"
           }
          ],
          "histogram2d": [
           {
            "colorbar": {
             "outlinewidth": 0,
             "ticks": ""
            },
            "colorscale": [
             [
              0,
              "#0d0887"
             ],
             [
              0.1111111111111111,
              "#46039f"
             ],
             [
              0.2222222222222222,
              "#7201a8"
             ],
             [
              0.3333333333333333,
              "#9c179e"
             ],
             [
              0.4444444444444444,
              "#bd3786"
             ],
             [
              0.5555555555555556,
              "#d8576b"
             ],
             [
              0.6666666666666666,
              "#ed7953"
             ],
             [
              0.7777777777777778,
              "#fb9f3a"
             ],
             [
              0.8888888888888888,
              "#fdca26"
             ],
             [
              1,
              "#f0f921"
             ]
            ],
            "type": "histogram2d"
           }
          ],
          "histogram2dcontour": [
           {
            "colorbar": {
             "outlinewidth": 0,
             "ticks": ""
            },
            "colorscale": [
             [
              0,
              "#0d0887"
             ],
             [
              0.1111111111111111,
              "#46039f"
             ],
             [
              0.2222222222222222,
              "#7201a8"
             ],
             [
              0.3333333333333333,
              "#9c179e"
             ],
             [
              0.4444444444444444,
              "#bd3786"
             ],
             [
              0.5555555555555556,
              "#d8576b"
             ],
             [
              0.6666666666666666,
              "#ed7953"
             ],
             [
              0.7777777777777778,
              "#fb9f3a"
             ],
             [
              0.8888888888888888,
              "#fdca26"
             ],
             [
              1,
              "#f0f921"
             ]
            ],
            "type": "histogram2dcontour"
           }
          ],
          "mesh3d": [
           {
            "colorbar": {
             "outlinewidth": 0,
             "ticks": ""
            },
            "type": "mesh3d"
           }
          ],
          "parcoords": [
           {
            "line": {
             "colorbar": {
              "outlinewidth": 0,
              "ticks": ""
             }
            },
            "type": "parcoords"
           }
          ],
          "pie": [
           {
            "automargin": true,
            "type": "pie"
           }
          ],
          "scatter": [
           {
            "marker": {
             "colorbar": {
              "outlinewidth": 0,
              "ticks": ""
             }
            },
            "type": "scatter"
           }
          ],
          "scatter3d": [
           {
            "line": {
             "colorbar": {
              "outlinewidth": 0,
              "ticks": ""
             }
            },
            "marker": {
             "colorbar": {
              "outlinewidth": 0,
              "ticks": ""
             }
            },
            "type": "scatter3d"
           }
          ],
          "scattercarpet": [
           {
            "marker": {
             "colorbar": {
              "outlinewidth": 0,
              "ticks": ""
             }
            },
            "type": "scattercarpet"
           }
          ],
          "scattergeo": [
           {
            "marker": {
             "colorbar": {
              "outlinewidth": 0,
              "ticks": ""
             }
            },
            "type": "scattergeo"
           }
          ],
          "scattergl": [
           {
            "marker": {
             "colorbar": {
              "outlinewidth": 0,
              "ticks": ""
             }
            },
            "type": "scattergl"
           }
          ],
          "scattermapbox": [
           {
            "marker": {
             "colorbar": {
              "outlinewidth": 0,
              "ticks": ""
             }
            },
            "type": "scattermapbox"
           }
          ],
          "scatterpolar": [
           {
            "marker": {
             "colorbar": {
              "outlinewidth": 0,
              "ticks": ""
             }
            },
            "type": "scatterpolar"
           }
          ],
          "scatterpolargl": [
           {
            "marker": {
             "colorbar": {
              "outlinewidth": 0,
              "ticks": ""
             }
            },
            "type": "scatterpolargl"
           }
          ],
          "scatterternary": [
           {
            "marker": {
             "colorbar": {
              "outlinewidth": 0,
              "ticks": ""
             }
            },
            "type": "scatterternary"
           }
          ],
          "surface": [
           {
            "colorbar": {
             "outlinewidth": 0,
             "ticks": ""
            },
            "colorscale": [
             [
              0,
              "#0d0887"
             ],
             [
              0.1111111111111111,
              "#46039f"
             ],
             [
              0.2222222222222222,
              "#7201a8"
             ],
             [
              0.3333333333333333,
              "#9c179e"
             ],
             [
              0.4444444444444444,
              "#bd3786"
             ],
             [
              0.5555555555555556,
              "#d8576b"
             ],
             [
              0.6666666666666666,
              "#ed7953"
             ],
             [
              0.7777777777777778,
              "#fb9f3a"
             ],
             [
              0.8888888888888888,
              "#fdca26"
             ],
             [
              1,
              "#f0f921"
             ]
            ],
            "type": "surface"
           }
          ],
          "table": [
           {
            "cells": {
             "fill": {
              "color": "#EBF0F8"
             },
             "line": {
              "color": "white"
             }
            },
            "header": {
             "fill": {
              "color": "#C8D4E3"
             },
             "line": {
              "color": "white"
             }
            },
            "type": "table"
           }
          ]
         },
         "layout": {
          "annotationdefaults": {
           "arrowcolor": "#2a3f5f",
           "arrowhead": 0,
           "arrowwidth": 1
          },
          "autotypenumbers": "strict",
          "coloraxis": {
           "colorbar": {
            "outlinewidth": 0,
            "ticks": ""
           }
          },
          "colorscale": {
           "diverging": [
            [
             0,
             "#8e0152"
            ],
            [
             0.1,
             "#c51b7d"
            ],
            [
             0.2,
             "#de77ae"
            ],
            [
             0.3,
             "#f1b6da"
            ],
            [
             0.4,
             "#fde0ef"
            ],
            [
             0.5,
             "#f7f7f7"
            ],
            [
             0.6,
             "#e6f5d0"
            ],
            [
             0.7,
             "#b8e186"
            ],
            [
             0.8,
             "#7fbc41"
            ],
            [
             0.9,
             "#4d9221"
            ],
            [
             1,
             "#276419"
            ]
           ],
           "sequential": [
            [
             0,
             "#0d0887"
            ],
            [
             0.1111111111111111,
             "#46039f"
            ],
            [
             0.2222222222222222,
             "#7201a8"
            ],
            [
             0.3333333333333333,
             "#9c179e"
            ],
            [
             0.4444444444444444,
             "#bd3786"
            ],
            [
             0.5555555555555556,
             "#d8576b"
            ],
            [
             0.6666666666666666,
             "#ed7953"
            ],
            [
             0.7777777777777778,
             "#fb9f3a"
            ],
            [
             0.8888888888888888,
             "#fdca26"
            ],
            [
             1,
             "#f0f921"
            ]
           ],
           "sequentialminus": [
            [
             0,
             "#0d0887"
            ],
            [
             0.1111111111111111,
             "#46039f"
            ],
            [
             0.2222222222222222,
             "#7201a8"
            ],
            [
             0.3333333333333333,
             "#9c179e"
            ],
            [
             0.4444444444444444,
             "#bd3786"
            ],
            [
             0.5555555555555556,
             "#d8576b"
            ],
            [
             0.6666666666666666,
             "#ed7953"
            ],
            [
             0.7777777777777778,
             "#fb9f3a"
            ],
            [
             0.8888888888888888,
             "#fdca26"
            ],
            [
             1,
             "#f0f921"
            ]
           ]
          },
          "colorway": [
           "#636efa",
           "#EF553B",
           "#00cc96",
           "#ab63fa",
           "#FFA15A",
           "#19d3f3",
           "#FF6692",
           "#B6E880",
           "#FF97FF",
           "#FECB52"
          ],
          "font": {
           "color": "#2a3f5f"
          },
          "geo": {
           "bgcolor": "white",
           "lakecolor": "white",
           "landcolor": "#E5ECF6",
           "showlakes": true,
           "showland": true,
           "subunitcolor": "white"
          },
          "hoverlabel": {
           "align": "left"
          },
          "hovermode": "closest",
          "mapbox": {
           "style": "light"
          },
          "paper_bgcolor": "white",
          "plot_bgcolor": "#E5ECF6",
          "polar": {
           "angularaxis": {
            "gridcolor": "white",
            "linecolor": "white",
            "ticks": ""
           },
           "bgcolor": "#E5ECF6",
           "radialaxis": {
            "gridcolor": "white",
            "linecolor": "white",
            "ticks": ""
           }
          },
          "scene": {
           "xaxis": {
            "backgroundcolor": "#E5ECF6",
            "gridcolor": "white",
            "gridwidth": 2,
            "linecolor": "white",
            "showbackground": true,
            "ticks": "",
            "zerolinecolor": "white"
           },
           "yaxis": {
            "backgroundcolor": "#E5ECF6",
            "gridcolor": "white",
            "gridwidth": 2,
            "linecolor": "white",
            "showbackground": true,
            "ticks": "",
            "zerolinecolor": "white"
           },
           "zaxis": {
            "backgroundcolor": "#E5ECF6",
            "gridcolor": "white",
            "gridwidth": 2,
            "linecolor": "white",
            "showbackground": true,
            "ticks": "",
            "zerolinecolor": "white"
           }
          },
          "shapedefaults": {
           "line": {
            "color": "#2a3f5f"
           }
          },
          "ternary": {
           "aaxis": {
            "gridcolor": "white",
            "linecolor": "white",
            "ticks": ""
           },
           "baxis": {
            "gridcolor": "white",
            "linecolor": "white",
            "ticks": ""
           },
           "bgcolor": "#E5ECF6",
           "caxis": {
            "gridcolor": "white",
            "linecolor": "white",
            "ticks": ""
           }
          },
          "title": {
           "x": 0.05
          },
          "xaxis": {
           "automargin": true,
           "gridcolor": "white",
           "linecolor": "white",
           "ticks": "",
           "title": {
            "standoff": 15
           },
           "zerolinecolor": "white",
           "zerolinewidth": 2
          },
          "yaxis": {
           "automargin": true,
           "gridcolor": "white",
           "linecolor": "white",
           "ticks": "",
           "title": {
            "standoff": 15
           },
           "zerolinecolor": "white",
           "zerolinewidth": 2
          }
         }
        },
        "title": {
         "text": "Performance of the candidate"
        },
        "width": 1000,
        "xaxis": {
         "tickfont": {
          "size": 14
         },
         "title": {
          "font": {
           "size": 16
          },
          "text": "Exam ID"
         }
        },
        "yaxis": {
         "tickfont": {
          "size": 14
         },
         "title": {
          "font": {
           "size": 16
          },
          "text": "Marks Scored"
         }
        }
       }
      },
      "text/html": [
       "<div>                            <div id=\"75cc4a4a-2d6e-4bda-871f-bab658267915\" class=\"plotly-graph-div\" style=\"height:600px; width:1000px;\"></div>            <script type=\"text/javascript\">                require([\"plotly\"], function(Plotly) {                    window.PLOTLYENV=window.PLOTLYENV || {};                                    if (document.getElementById(\"75cc4a4a-2d6e-4bda-871f-bab658267915\")) {                    Plotly.newPlot(                        \"75cc4a4a-2d6e-4bda-871f-bab658267915\",                        [{\"hoverinfo\": [\"all\"], \"marker\": {\"color\": \"rgb(55, 83, 109)\"}, \"name\": \"ACAD-202012\", \"type\": \"bar\", \"x\": [\"23\", \"27\", \"31\", \"33\", \"36\", \"38\", \"40\", \"62\", \"69\"], \"y\": [79.0, 78.0, 67.0, 66.0, 63.0, 40.0, 35.0, 29.0, -2.0]}, {\"hoverinfo\": [\"all\"], \"marker\": {\"color\": \"rgb(26, 118, 255)\"}, \"name\": \"Topper\", \"type\": \"bar\", \"x\": [\"23\", \"27\", \"31\", \"33\", \"36\", \"38\", \"40\", \"62\", \"69\"], \"y\": [100.0, 96.0, 96.0, 95.0, 95.0, 95.0, 95.0, 91.0, 90.0, 87.0, 85.0, 83.0, 83.0, 81.0, 81.0, 81.0, 80.0, 78.0, 78.0, 76.0, 75.0, 65.0, 64.0, 61.0, 57.0, 56.0, 51.0, 51.0, 30.0, 26.0, 19.0, 10.0]}],                        {\"bargap\": 0.15, \"bargroupgap\": 0.1, \"barmode\": \"group\", \"height\": 600, \"legend\": {\"bgcolor\": \"rgba(255, 255, 255, 0)\", \"bordercolor\": \"rgba(255, 255, 255, 0)\", \"orientation\": \"h\", \"x\": 0, \"y\": 1.0}, \"template\": {\"data\": {\"bar\": [{\"error_x\": {\"color\": \"#2a3f5f\"}, \"error_y\": {\"color\": \"#2a3f5f\"}, \"marker\": {\"line\": {\"color\": \"#E5ECF6\", \"width\": 0.5}}, \"type\": \"bar\"}], \"barpolar\": [{\"marker\": {\"line\": {\"color\": \"#E5ECF6\", \"width\": 0.5}}, \"type\": \"barpolar\"}], \"carpet\": [{\"aaxis\": {\"endlinecolor\": \"#2a3f5f\", \"gridcolor\": \"white\", \"linecolor\": \"white\", \"minorgridcolor\": \"white\", \"startlinecolor\": \"#2a3f5f\"}, \"baxis\": {\"endlinecolor\": \"#2a3f5f\", \"gridcolor\": \"white\", \"linecolor\": \"white\", \"minorgridcolor\": \"white\", \"startlinecolor\": \"#2a3f5f\"}, \"type\": \"carpet\"}], \"choropleth\": [{\"colorbar\": {\"outlinewidth\": 0, \"ticks\": \"\"}, \"type\": \"choropleth\"}], \"contour\": [{\"colorbar\": {\"outlinewidth\": 0, \"ticks\": \"\"}, \"colorscale\": [[0.0, \"#0d0887\"], [0.1111111111111111, \"#46039f\"], [0.2222222222222222, \"#7201a8\"], [0.3333333333333333, \"#9c179e\"], [0.4444444444444444, \"#bd3786\"], [0.5555555555555556, \"#d8576b\"], [0.6666666666666666, \"#ed7953\"], [0.7777777777777778, \"#fb9f3a\"], [0.8888888888888888, \"#fdca26\"], [1.0, \"#f0f921\"]], \"type\": \"contour\"}], \"contourcarpet\": [{\"colorbar\": {\"outlinewidth\": 0, \"ticks\": \"\"}, \"type\": \"contourcarpet\"}], \"heatmap\": [{\"colorbar\": {\"outlinewidth\": 0, \"ticks\": \"\"}, \"colorscale\": [[0.0, \"#0d0887\"], [0.1111111111111111, \"#46039f\"], [0.2222222222222222, \"#7201a8\"], [0.3333333333333333, \"#9c179e\"], [0.4444444444444444, \"#bd3786\"], [0.5555555555555556, \"#d8576b\"], [0.6666666666666666, \"#ed7953\"], [0.7777777777777778, \"#fb9f3a\"], [0.8888888888888888, \"#fdca26\"], [1.0, \"#f0f921\"]], \"type\": \"heatmap\"}], \"heatmapgl\": [{\"colorbar\": {\"outlinewidth\": 0, \"ticks\": \"\"}, \"colorscale\": [[0.0, \"#0d0887\"], [0.1111111111111111, \"#46039f\"], [0.2222222222222222, \"#7201a8\"], [0.3333333333333333, \"#9c179e\"], [0.4444444444444444, \"#bd3786\"], [0.5555555555555556, \"#d8576b\"], [0.6666666666666666, \"#ed7953\"], [0.7777777777777778, \"#fb9f3a\"], [0.8888888888888888, \"#fdca26\"], [1.0, \"#f0f921\"]], \"type\": \"heatmapgl\"}], \"histogram\": [{\"marker\": {\"colorbar\": {\"outlinewidth\": 0, \"ticks\": \"\"}}, \"type\": \"histogram\"}], \"histogram2d\": [{\"colorbar\": {\"outlinewidth\": 0, \"ticks\": \"\"}, \"colorscale\": [[0.0, \"#0d0887\"], [0.1111111111111111, \"#46039f\"], [0.2222222222222222, \"#7201a8\"], [0.3333333333333333, \"#9c179e\"], [0.4444444444444444, \"#bd3786\"], [0.5555555555555556, \"#d8576b\"], [0.6666666666666666, \"#ed7953\"], [0.7777777777777778, \"#fb9f3a\"], [0.8888888888888888, \"#fdca26\"], [1.0, \"#f0f921\"]], \"type\": \"histogram2d\"}], \"histogram2dcontour\": [{\"colorbar\": {\"outlinewidth\": 0, \"ticks\": \"\"}, \"colorscale\": [[0.0, \"#0d0887\"], [0.1111111111111111, \"#46039f\"], [0.2222222222222222, \"#7201a8\"], [0.3333333333333333, \"#9c179e\"], [0.4444444444444444, \"#bd3786\"], [0.5555555555555556, \"#d8576b\"], [0.6666666666666666, \"#ed7953\"], [0.7777777777777778, \"#fb9f3a\"], [0.8888888888888888, \"#fdca26\"], [1.0, \"#f0f921\"]], \"type\": \"histogram2dcontour\"}], \"mesh3d\": [{\"colorbar\": {\"outlinewidth\": 0, \"ticks\": \"\"}, \"type\": \"mesh3d\"}], \"parcoords\": [{\"line\": {\"colorbar\": {\"outlinewidth\": 0, \"ticks\": \"\"}}, \"type\": \"parcoords\"}], \"pie\": [{\"automargin\": true, \"type\": \"pie\"}], \"scatter\": [{\"marker\": {\"colorbar\": {\"outlinewidth\": 0, \"ticks\": \"\"}}, \"type\": \"scatter\"}], \"scatter3d\": [{\"line\": {\"colorbar\": {\"outlinewidth\": 0, \"ticks\": \"\"}}, \"marker\": {\"colorbar\": {\"outlinewidth\": 0, \"ticks\": \"\"}}, \"type\": \"scatter3d\"}], \"scattercarpet\": [{\"marker\": {\"colorbar\": {\"outlinewidth\": 0, \"ticks\": \"\"}}, \"type\": \"scattercarpet\"}], \"scattergeo\": [{\"marker\": {\"colorbar\": {\"outlinewidth\": 0, \"ticks\": \"\"}}, \"type\": \"scattergeo\"}], \"scattergl\": [{\"marker\": {\"colorbar\": {\"outlinewidth\": 0, \"ticks\": \"\"}}, \"type\": \"scattergl\"}], \"scattermapbox\": [{\"marker\": {\"colorbar\": {\"outlinewidth\": 0, \"ticks\": \"\"}}, \"type\": \"scattermapbox\"}], \"scatterpolar\": [{\"marker\": {\"colorbar\": {\"outlinewidth\": 0, \"ticks\": \"\"}}, \"type\": \"scatterpolar\"}], \"scatterpolargl\": [{\"marker\": {\"colorbar\": {\"outlinewidth\": 0, \"ticks\": \"\"}}, \"type\": \"scatterpolargl\"}], \"scatterternary\": [{\"marker\": {\"colorbar\": {\"outlinewidth\": 0, \"ticks\": \"\"}}, \"type\": \"scatterternary\"}], \"surface\": [{\"colorbar\": {\"outlinewidth\": 0, \"ticks\": \"\"}, \"colorscale\": [[0.0, \"#0d0887\"], [0.1111111111111111, \"#46039f\"], [0.2222222222222222, \"#7201a8\"], [0.3333333333333333, \"#9c179e\"], [0.4444444444444444, \"#bd3786\"], [0.5555555555555556, \"#d8576b\"], [0.6666666666666666, \"#ed7953\"], [0.7777777777777778, \"#fb9f3a\"], [0.8888888888888888, \"#fdca26\"], [1.0, \"#f0f921\"]], \"type\": \"surface\"}], \"table\": [{\"cells\": {\"fill\": {\"color\": \"#EBF0F8\"}, \"line\": {\"color\": \"white\"}}, \"header\": {\"fill\": {\"color\": \"#C8D4E3\"}, \"line\": {\"color\": \"white\"}}, \"type\": \"table\"}]}, \"layout\": {\"annotationdefaults\": {\"arrowcolor\": \"#2a3f5f\", \"arrowhead\": 0, \"arrowwidth\": 1}, \"autotypenumbers\": \"strict\", \"coloraxis\": {\"colorbar\": {\"outlinewidth\": 0, \"ticks\": \"\"}}, \"colorscale\": {\"diverging\": [[0, \"#8e0152\"], [0.1, \"#c51b7d\"], [0.2, \"#de77ae\"], [0.3, \"#f1b6da\"], [0.4, \"#fde0ef\"], [0.5, \"#f7f7f7\"], [0.6, \"#e6f5d0\"], [0.7, \"#b8e186\"], [0.8, \"#7fbc41\"], [0.9, \"#4d9221\"], [1, \"#276419\"]], \"sequential\": [[0.0, \"#0d0887\"], [0.1111111111111111, \"#46039f\"], [0.2222222222222222, \"#7201a8\"], [0.3333333333333333, \"#9c179e\"], [0.4444444444444444, \"#bd3786\"], [0.5555555555555556, \"#d8576b\"], [0.6666666666666666, \"#ed7953\"], [0.7777777777777778, \"#fb9f3a\"], [0.8888888888888888, \"#fdca26\"], [1.0, \"#f0f921\"]], \"sequentialminus\": [[0.0, \"#0d0887\"], [0.1111111111111111, \"#46039f\"], [0.2222222222222222, \"#7201a8\"], [0.3333333333333333, \"#9c179e\"], [0.4444444444444444, \"#bd3786\"], [0.5555555555555556, \"#d8576b\"], [0.6666666666666666, \"#ed7953\"], [0.7777777777777778, \"#fb9f3a\"], [0.8888888888888888, \"#fdca26\"], [1.0, \"#f0f921\"]]}, \"colorway\": [\"#636efa\", \"#EF553B\", \"#00cc96\", \"#ab63fa\", \"#FFA15A\", \"#19d3f3\", \"#FF6692\", \"#B6E880\", \"#FF97FF\", \"#FECB52\"], \"font\": {\"color\": \"#2a3f5f\"}, \"geo\": {\"bgcolor\": \"white\", \"lakecolor\": \"white\", \"landcolor\": \"#E5ECF6\", \"showlakes\": true, \"showland\": true, \"subunitcolor\": \"white\"}, \"hoverlabel\": {\"align\": \"left\"}, \"hovermode\": \"closest\", \"mapbox\": {\"style\": \"light\"}, \"paper_bgcolor\": \"white\", \"plot_bgcolor\": \"#E5ECF6\", \"polar\": {\"angularaxis\": {\"gridcolor\": \"white\", \"linecolor\": \"white\", \"ticks\": \"\"}, \"bgcolor\": \"#E5ECF6\", \"radialaxis\": {\"gridcolor\": \"white\", \"linecolor\": \"white\", \"ticks\": \"\"}}, \"scene\": {\"xaxis\": {\"backgroundcolor\": \"#E5ECF6\", \"gridcolor\": \"white\", \"gridwidth\": 2, \"linecolor\": \"white\", \"showbackground\": true, \"ticks\": \"\", \"zerolinecolor\": \"white\"}, \"yaxis\": {\"backgroundcolor\": \"#E5ECF6\", \"gridcolor\": \"white\", \"gridwidth\": 2, \"linecolor\": \"white\", \"showbackground\": true, \"ticks\": \"\", \"zerolinecolor\": \"white\"}, \"zaxis\": {\"backgroundcolor\": \"#E5ECF6\", \"gridcolor\": \"white\", \"gridwidth\": 2, \"linecolor\": \"white\", \"showbackground\": true, \"ticks\": \"\", \"zerolinecolor\": \"white\"}}, \"shapedefaults\": {\"line\": {\"color\": \"#2a3f5f\"}}, \"ternary\": {\"aaxis\": {\"gridcolor\": \"white\", \"linecolor\": \"white\", \"ticks\": \"\"}, \"baxis\": {\"gridcolor\": \"white\", \"linecolor\": \"white\", \"ticks\": \"\"}, \"bgcolor\": \"#E5ECF6\", \"caxis\": {\"gridcolor\": \"white\", \"linecolor\": \"white\", \"ticks\": \"\"}}, \"title\": {\"x\": 0.05}, \"xaxis\": {\"automargin\": true, \"gridcolor\": \"white\", \"linecolor\": \"white\", \"ticks\": \"\", \"title\": {\"standoff\": 15}, \"zerolinecolor\": \"white\", \"zerolinewidth\": 2}, \"yaxis\": {\"automargin\": true, \"gridcolor\": \"white\", \"linecolor\": \"white\", \"ticks\": \"\", \"title\": {\"standoff\": 15}, \"zerolinecolor\": \"white\", \"zerolinewidth\": 2}}}, \"title\": {\"text\": \"Performance of the candidate\"}, \"width\": 1000, \"xaxis\": {\"tickfont\": {\"size\": 14}, \"title\": {\"font\": {\"size\": 16}, \"text\": \"Exam ID\"}}, \"yaxis\": {\"tickfont\": {\"size\": 14}, \"title\": {\"font\": {\"size\": 16}, \"text\": \"Marks Scored\"}}},                        {\"responsive\": true}                    ).then(function(){\n",
       "                            \n",
       "var gd = document.getElementById('75cc4a4a-2d6e-4bda-871f-bab658267915');\n",
       "var x = new MutationObserver(function (mutations, observer) {{\n",
       "        var display = window.getComputedStyle(gd).display;\n",
       "        if (!display || display === 'none') {{\n",
       "            console.log([gd, 'removed!']);\n",
       "            Plotly.purge(gd);\n",
       "            observer.disconnect();\n",
       "        }}\n",
       "}});\n",
       "\n",
       "// Listen for the removal of the full notebook cells\n",
       "var notebookContainer = gd.closest('#notebook-container');\n",
       "if (notebookContainer) {{\n",
       "    x.observe(notebookContainer, {childList: true});\n",
       "}}\n",
       "\n",
       "// Listen for the clearing of the current output cell\n",
       "var outputEl = gd.closest('.output');\n",
       "if (outputEl) {{\n",
       "    x.observe(outputEl, {childList: true});\n",
       "}}\n",
       "\n",
       "                        })                };                });            </script>        </div>"
      ]
     },
     "metadata": {},
     "output_type": "display_data"
    }
   ],
   "source": [
    "arr = np.sort(np.array(df_o.query(\"sub_id == '1' & reg_no == 'ACAD-202012' \")['exam_id']))\n",
    "arr\n",
    "\n",
    "fig = go.Figure(layout=go.Layout(height=600, width=1000))\n",
    "fig.add_trace(go.Bar(x= arr,\n",
    "                y= df_o.query(\"sub_id == '1' & reg_no == 'ACAD-202012' \")['scored_marks'] ,\n",
    "                hoverinfo = (['all']),\n",
    "                name='ACAD-202012',\n",
    "                marker_color='rgb(55, 83, 109)'\n",
    "                ))\n",
    "fig.add_trace(go.Bar(x= arr,\n",
    "                y= df_o.query(\"sub_id == '1' & percentile == 100\")['scored_marks'],\n",
    "                hoverinfo = (['all']),\n",
    "                name='Topper',\n",
    "                marker_color='rgb(26, 118, 255)'\n",
    "                ))\n",
    "\n",
    "fig.update_layout(\n",
    "    title='Performance of the candidate',\n",
    "    xaxis_title = 'Exam ID',\n",
    "    legend_orientation = 'h',\n",
    "    xaxis_titlefont_size = 16,\n",
    "    xaxis_tickfont_size=14,\n",
    "    yaxis=dict(\n",
    "        title='Marks Scored',\n",
    "        titlefont_size=16,\n",
    "        tickfont_size=14,\n",
    "    ),\n",
    "    legend=dict(\n",
    "        x=0,\n",
    "        y=1.0,\n",
    "        bgcolor='rgba(255, 255, 255, 0)',\n",
    "        bordercolor='rgba(255, 255, 255, 0)'\n",
    "    ),\n",
    "    barmode='group',\n",
    "    bargap=0.15, # gap between bars of adjacent location coordinates.\n",
    "    bargroupgap=0.1 # gap between bars of the same location coordinate.\n",
    ")\n",
    "fig.show()\n",
    "fig.write_html(\"fig_ACAD_202012_performance.html\")"
   ]
  },
  {
   "cell_type": "code",
   "execution_count": null,
   "metadata": {},
   "outputs": [],
   "source": []
  }
 ],
 "metadata": {
  "kernelspec": {
   "display_name": "Python 3",
   "language": "python",
   "name": "python3"
  },
  "language_info": {
   "codemirror_mode": {
    "name": "ipython",
    "version": 3
   },
   "file_extension": ".py",
   "mimetype": "text/x-python",
   "name": "python",
   "nbconvert_exporter": "python",
   "pygments_lexer": "ipython3",
   "version": "3.8.5"
  }
 },
 "nbformat": 4,
 "nbformat_minor": 5
}
